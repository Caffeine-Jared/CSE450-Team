{
 "cells": [
  {
   "cell_type": "code",
   "execution_count": 2,
   "metadata": {},
   "outputs": [],
   "source": [
    "import pandas as pd\n",
    "import numpy as np\n",
    "import matplotlib.pyplot as plt\n",
    "import seaborn as sns\n",
    "import altair as alt\n"
   ]
  },
  {
   "cell_type": "code",
   "execution_count": 3,
   "metadata": {},
   "outputs": [
    {
     "name": "stdout",
     "output_type": "stream",
     "text": [
      "<class 'pandas.core.frame.DataFrame'>\n",
      "RangeIndex: 20000 entries, 0 to 19999\n",
      "Data columns (total 21 columns):\n",
      " #   Column         Non-Null Count  Dtype  \n",
      "---  ------         --------------  -----  \n",
      " 0   id             20000 non-null  int64  \n",
      " 1   date           20000 non-null  object \n",
      " 2   bedrooms       20000 non-null  int64  \n",
      " 3   bathrooms      20000 non-null  float64\n",
      " 4   sqft_living    20000 non-null  int64  \n",
      " 5   sqft_lot       20000 non-null  int64  \n",
      " 6   floors         20000 non-null  float64\n",
      " 7   waterfront     20000 non-null  int64  \n",
      " 8   view           20000 non-null  int64  \n",
      " 9   condition      20000 non-null  int64  \n",
      " 10  grade          20000 non-null  int64  \n",
      " 11  sqft_above     20000 non-null  int64  \n",
      " 12  sqft_basement  20000 non-null  int64  \n",
      " 13  yr_built       20000 non-null  int64  \n",
      " 14  yr_renovated   20000 non-null  int64  \n",
      " 15  zipcode        20000 non-null  int64  \n",
      " 16  lat            20000 non-null  float64\n",
      " 17  long           20000 non-null  float64\n",
      " 18  sqft_living15  20000 non-null  int64  \n",
      " 19  sqft_lot15     20000 non-null  int64  \n",
      " 20  price          20000 non-null  float64\n",
      "dtypes: float64(5), int64(15), object(1)\n",
      "memory usage: 3.2+ MB\n"
     ]
    }
   ],
   "source": [
    "data = pd.read_csv('https://raw.githubusercontent.com/byui-cse/cse450-course/master/data/housing.csv')\n",
    "data.info()"
   ]
  },
  {
   "cell_type": "code",
   "execution_count": 4,
   "metadata": {},
   "outputs": [
    {
     "name": "stdout",
     "output_type": "stream",
     "text": [
      "id               0\n",
      "date             0\n",
      "bedrooms         0\n",
      "bathrooms        0\n",
      "sqft_living      0\n",
      "sqft_lot         0\n",
      "floors           0\n",
      "waterfront       0\n",
      "view             0\n",
      "condition        0\n",
      "grade            0\n",
      "sqft_above       0\n",
      "sqft_basement    0\n",
      "yr_built         0\n",
      "yr_renovated     0\n",
      "zipcode          0\n",
      "lat              0\n",
      "long             0\n",
      "sqft_living15    0\n",
      "sqft_lot15       0\n",
      "price            0\n",
      "dtype: int64\n"
     ]
    }
   ],
   "source": [
    "nan_count = data.isna().sum()\n",
    "print(nan_count)\n"
   ]
  }
 ],
 "metadata": {
  "kernelspec": {
   "display_name": "Python 3",
   "language": "python",
   "name": "python3"
  },
  "language_info": {
   "codemirror_mode": {
    "name": "ipython",
    "version": 3
   },
   "file_extension": ".py",
   "mimetype": "text/x-python",
   "name": "python",
   "nbconvert_exporter": "python",
   "pygments_lexer": "ipython3",
   "version": "3.10.7"
  },
  "orig_nbformat": 4
 },
 "nbformat": 4,
 "nbformat_minor": 2
}
