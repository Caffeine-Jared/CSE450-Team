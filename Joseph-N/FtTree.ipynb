{
 "cells": [
  {
   "cell_type": "code",
   "execution_count": 75,
   "metadata": {},
   "outputs": [],
   "source": [
    "#Imports\n",
    "import pandas as pd\n",
    "import altair as alt\n",
    "import numpy as np\n",
    "from sklearn import tree\n",
    "from sklearn.tree import DecisionTreeClassifier\n",
    "from sklearn.neighbors import KNeighborsClassifier\n",
    "from sklearn.metrics import accuracy_score\n",
    "from sklearn.metrics import confusion_matrix\n",
    "from sklearn.feature_selection import mutual_info_classif\n",
    "from sklearn.feature_selection import SelectKBest\n",
    "from sklearn import metrics\n",
    "from sklearn.model_selection import train_test_split\n",
    "import seaborn as sns\n",
    "sns.set_theme(style=\"ticks\")\n",
    "import matplotlib.pyplot as plt"
   ]
  },
  {
   "cell_type": "code",
   "execution_count": 143,
   "metadata": {},
   "outputs": [
    {
     "name": "stdout",
     "output_type": "stream",
     "text": [
      "<class 'pandas.core.frame.DataFrame'>\n",
      "Int64Index: 1373 entries, 21712 to 37060\n",
      "Data columns (total 20 columns):\n",
      " #   Column          Non-Null Count  Dtype  \n",
      "---  ------          --------------  -----  \n",
      " 0   age             1373 non-null   int64  \n",
      " 1   job             1373 non-null   int64  \n",
      " 2   marital         1373 non-null   int64  \n",
      " 3   education       1373 non-null   int64  \n",
      " 4   default         1373 non-null   int64  \n",
      " 5   housing         1373 non-null   int64  \n",
      " 6   loan            1373 non-null   int64  \n",
      " 7   contact         1373 non-null   int64  \n",
      " 8   month           1373 non-null   int64  \n",
      " 9   day_of_week     1373 non-null   int64  \n",
      " 10  campaign        1373 non-null   int64  \n",
      " 11  pdays           1373 non-null   float64\n",
      " 12  previous        1373 non-null   int64  \n",
      " 13  poutcome        1373 non-null   int64  \n",
      " 14  emp.var.rate    1373 non-null   float64\n",
      " 15  cons.price.idx  1373 non-null   float64\n",
      " 16  cons.conf.idx   1373 non-null   float64\n",
      " 17  euribor3m       1373 non-null   float64\n",
      " 18  nr.employed     1373 non-null   float64\n",
      " 19  y               1373 non-null   int64  \n",
      "dtypes: float64(6), int64(14)\n",
      "memory usage: 225.3 KB\n"
     ]
    }
   ],
   "source": [
    "data = pd.read_csv('https://raw.githubusercontent.com/byui-cse/cse450-course/master/data/bank.csv')\n",
    "\n",
    "testClean = data\n",
    "testClean[\"job\"] = testClean[\"job\"].replace(['unknown'], \"admin.\")\n",
    "testClean[\"marital\"] = testClean[\"marital\"].replace(['unknown'], \"married\")\n",
    "testClean[\"education\"] = testClean[\"education\"].replace(['unknown'], \"university.degree\")\n",
    "testClean[\"default\"] = testClean[\"default\"].replace(['unknown'], \"no\")\n",
    "testClean[\"housing\"] = testClean[\"housing\"].replace(['unknown'], \"yes\")\n",
    "testClean[\"loan\"] = testClean[\"loan\"].replace(['unknown'], \"no\")\n",
    "testClean['poutcome'] = testClean['poutcome'].replace(['nonexistent'], \"failure\")\n",
    "testClean['pdays'] = testClean['pdays'].apply(lambda x: np.nan if x == 999 else x)\n",
    "testClean[['job','marital',\"education\",'default','housing','contact','month','day_of_week','poutcome','loan','y']] = testClean[['job','marital',\"education\",'default','housing','contact','month','day_of_week','poutcome','loan','y']].apply(lambda x: pd.factorize(x)[0])\n",
    "testClean = testClean[~testClean['pdays'].isna()]\n",
    "testClean.info()\n"
   ]
  },
  {
   "cell_type": "code",
   "execution_count": 142,
   "metadata": {},
   "outputs": [
    {
     "data": {
      "text/plain": [
       "no     32861\n",
       "yes     4208\n",
       "Name: y, dtype: int64"
      ]
     },
     "execution_count": 142,
     "metadata": {},
     "output_type": "execute_result"
    }
   ],
   "source": [
    "data[\"y\"].value_counts()\n",
    "#sns.pairplot(testClean, hue=\"y\")\n",
    "#testClean.isnull().sum()"
   ]
  },
  {
   "cell_type": "code",
   "execution_count": 135,
   "metadata": {},
   "outputs": [],
   "source": [
    "#Splitting the data\n",
    "X = testClean.iloc[:,14:17]\n",
    "y = testClean['y']\n",
    "\n",
    "#Splitting the data into training, validation, and testing\n",
    "X_main, X_test, y_main, y_test = train_test_split(X, y, test_size=0.15 , random_state=42)\n",
    "X_train, X_val, y_train, y_val = train_test_split(X_main, y_main, test_size=0.15, random_state=42)"
   ]
  },
  {
   "cell_type": "code",
   "execution_count": 136,
   "metadata": {},
   "outputs": [
    {
     "data": {
      "text/plain": [
       "cons.price.idx    0.071841\n",
       "emp.var.rate      0.038484\n",
       "cons.conf.idx     0.037493\n",
       "dtype: float64"
      ]
     },
     "execution_count": 136,
     "metadata": {},
     "output_type": "execute_result"
    }
   ],
   "source": [
    "#see correlation with validation set and training set\n",
    "mutual_info = mutual_info_classif(X_train, y_train)\n",
    "mutual_info = pd.Series(mutual_info)\n",
    "mutual_info.index = X_train.columns\n",
    "mutual_info.sort_values(ascending=False)\n",
    "# based on the mutual info, we can see that the most important features are euribor3m,cons.price.idx, cons.conf.idx, and pdays."
   ]
  },
  {
   "cell_type": "code",
   "execution_count": 137,
   "metadata": {},
   "outputs": [
    {
     "name": "stdout",
     "output_type": "stream",
     "text": [
      "Accuracy: 0.6818181818181818\n",
      "Confusion Matrix:\n",
      "[[ 18  51]\n",
      " [  5 102]]\n",
      "Classification Report:\n",
      "              precision    recall  f1-score   support\n",
      "\n",
      "           0       0.78      0.26      0.39        69\n",
      "           1       0.67      0.95      0.78       107\n",
      "\n",
      "    accuracy                           0.68       176\n",
      "   macro avg       0.72      0.61      0.59       176\n",
      "weighted avg       0.71      0.68      0.63       176\n",
      "\n"
     ]
    }
   ],
   "source": [
    "#selecting the best features\n",
    "sel_three_cols = SelectKBest(mutual_info_classif, k=3)\n",
    "sel_three_cols.fit(X_train, y_train)\n",
    "X_train.columns[sel_three_cols.get_support()]\n",
    "\n",
    "\n",
    "\n",
    "#Decision Tree\n",
    "#Decision Tree with max depth of 3\n",
    "dt = DecisionTreeClassifier(max_depth=15)\n",
    "dt.fit(X_train, y_train)\n",
    "y_pred = dt.predict(X_val)\n",
    "print(\"Accuracy:\",metrics.accuracy_score(y_val, y_pred))\n",
    "print(\"Confusion Matrix:\")\n",
    "print(confusion_matrix(y_val, y_pred))\n",
    "print(\"Classification Report:\")\n",
    "print(metrics.classification_report(y_val, y_pred))\n",
    "\n",
    "# 0 is no and 1 is yes"
   ]
  },
  {
   "cell_type": "code",
   "execution_count": null,
   "metadata": {},
   "outputs": [],
   "source": []
  }
 ],
 "metadata": {
  "kernelspec": {
   "display_name": "Python 3",
   "language": "python",
   "name": "python3"
  },
  "language_info": {
   "codemirror_mode": {
    "name": "ipython",
    "version": 3
   },
   "file_extension": ".py",
   "mimetype": "text/x-python",
   "name": "python",
   "nbconvert_exporter": "python",
   "pygments_lexer": "ipython3",
   "version": "3.10.7"
  },
  "orig_nbformat": 4
 },
 "nbformat": 4,
 "nbformat_minor": 2
}
