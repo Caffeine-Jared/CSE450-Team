{
 "cells": [
  {
   "cell_type": "code",
   "execution_count": 5,
   "metadata": {},
   "outputs": [],
   "source": [
    "#Imports\n",
    "import pandas as pd\n",
    "import altair as alt\n",
    "import numpy as np\n",
    "from sklearn import tree\n",
    "from sklearn.tree import DecisionTreeClassifier\n",
    "from sklearn.neighbors import KNeighborsClassifier\n",
    "from sklearn.metrics import accuracy_score\n",
    "from sklearn.metrics import classification_report\n",
    "from sklearn.metrics import precision_score\n",
    "from sklearn.metrics import confusion_matrix\n",
    "from sklearn.feature_selection import mutual_info_classif\n",
    "from sklearn.feature_selection import SelectKBest\n",
    "from sklearn import metrics\n",
    "from sklearn.model_selection import train_test_split\n",
    "import seaborn as sns\n",
    "sns.set_theme(style=\"ticks\")\n",
    "import matplotlib.pyplot as plt"
   ]
  },
  {
   "cell_type": "code",
   "execution_count": 6,
   "metadata": {},
   "outputs": [
    {
     "name": "stdout",
     "output_type": "stream",
     "text": [
      "<class 'pandas.core.frame.DataFrame'>\n",
      "Int64Index: 37069 entries, 0 to 37068\n",
      "Data columns (total 20 columns):\n",
      " #   Column          Non-Null Count  Dtype  \n",
      "---  ------          --------------  -----  \n",
      " 0   age             37069 non-null  int64  \n",
      " 1   job             37069 non-null  int64  \n",
      " 2   marital         37069 non-null  int64  \n",
      " 3   education       37069 non-null  int64  \n",
      " 4   default         37069 non-null  int64  \n",
      " 5   housing         37069 non-null  int64  \n",
      " 6   loan            37069 non-null  int64  \n",
      " 7   contact         37069 non-null  int64  \n",
      " 8   month           37069 non-null  int64  \n",
      " 9   day_of_week     37069 non-null  int64  \n",
      " 10  campaign        37069 non-null  int64  \n",
      " 11  pdays           37069 non-null  int64  \n",
      " 12  previous        37069 non-null  int64  \n",
      " 13  poutcome        37069 non-null  int64  \n",
      " 14  emp.var.rate    37069 non-null  float64\n",
      " 15  cons.price.idx  37069 non-null  float64\n",
      " 16  cons.conf.idx   37069 non-null  float64\n",
      " 17  euribor3m       37069 non-null  float64\n",
      " 18  nr.employed     37069 non-null  float64\n",
      " 19  y               37069 non-null  int64  \n",
      "dtypes: float64(5), int64(15)\n",
      "memory usage: 5.9 MB\n"
     ]
    }
   ],
   "source": [
    "data = pd.read_csv('https://raw.githubusercontent.com/byui-cse/cse450-course/master/data/bank.csv')\n",
    "\n",
    "testClean = data\n",
    "testClean[\"job\"] = testClean[\"job\"].replace(['unknown'], \"admin.\")\n",
    "testClean[\"marital\"] = testClean[\"marital\"].replace(['unknown'], \"married\")\n",
    "testClean[\"education\"] = testClean[\"education\"].replace(['unknown'], \"university.degree\")\n",
    "testClean[\"default\"] = testClean[\"default\"].replace(['unknown'], \"no\")\n",
    "testClean[\"housing\"] = testClean[\"housing\"].replace(['unknown'], \"yes\")\n",
    "testClean[\"loan\"] = testClean[\"loan\"].replace(['unknown'], \"no\")\n",
    "testClean['poutcome'] = testClean['poutcome'].replace(['nonexistent'], \"failure\")\n",
    "testClean['pdays'] = testClean['pdays'].apply(lambda x: 0 if x == 999 else x)\n",
    "testClean[['job','marital',\"education\",'default','housing','contact','month','day_of_week','poutcome','loan','y']] = testClean[['job','marital',\"education\",'default','housing','contact','month','day_of_week','poutcome','loan','y']].apply(lambda x: pd.factorize(x)[0])\n",
    "testClean = testClean[~testClean['pdays'].isna()]\n",
    "testClean.info()"
   ]
  },
  {
   "cell_type": "code",
   "execution_count": 20,
   "metadata": {},
   "outputs": [],
   "source": [
    "X = testClean.drop('y', axis=1)\n",
    "y = testClean['y']\n",
    "#X.head()"
   ]
  },
  {
   "cell_type": "code",
   "execution_count": 21,
   "metadata": {},
   "outputs": [
    {
     "data": {
      "text/plain": [
       "euribor3m         0.075186\n",
       "cons.conf.idx     0.070493\n",
       "cons.price.idx    0.070262\n",
       "nr.employed       0.062504\n",
       "emp.var.rate      0.057198\n",
       "pdays             0.033277\n",
       "poutcome          0.031846\n",
       "month             0.027893\n",
       "previous          0.019821\n",
       "age               0.016104\n",
       "contact           0.015389\n",
       "job               0.011135\n",
       "education         0.005506\n",
       "campaign          0.004256\n",
       "day_of_week       0.002999\n",
       "default           0.002313\n",
       "housing           0.001171\n",
       "marital           0.001114\n",
       "loan              0.000000\n",
       "dtype: float64"
      ]
     },
     "execution_count": 21,
     "metadata": {},
     "output_type": "execute_result"
    }
   ],
   "source": [
    "mutual_info = mutual_info_classif(X, y)\n",
    "mutual_info = pd.Series(mutual_info)\n",
    "mutual_info.index = X.columns\n",
    "mutual_info.sort_values(ascending=False)"
   ]
  },
  {
   "cell_type": "code",
   "execution_count": 27,
   "metadata": {},
   "outputs": [],
   "source": [
    "sel_three_feat = SelectKBest(mutual_info_classif, k=4).fit(X, y)\n",
    "sel_bool = sel_three_feat.get_support()\n",
    "X_sel = X[X.columns[sel_bool]]\n",
    "#X_sel.head()"
   ]
  },
  {
   "cell_type": "code",
   "execution_count": 33,
   "metadata": {},
   "outputs": [],
   "source": [
    "X_main, X_test, y_main, y_test = train_test_split(X_sel, y, test_size=0.1 , random_state=42)\n",
    "X_train, X_val, y_train, y_val = train_test_split(X_main, y_main, test_size=0.2, random_state=42)"
   ]
  },
  {
   "cell_type": "code",
   "execution_count": 34,
   "metadata": {},
   "outputs": [
    {
     "name": "stdout",
     "output_type": "stream",
     "text": [
      "Precision: 0.5478260869565217\n",
      "Confusion Matrix:\n",
      "[[5778  156]\n",
      " [ 550  189]]\n",
      "Classification Report:\n",
      "              precision    recall  f1-score   support\n",
      "\n",
      "           0       0.91      0.97      0.94      5934\n",
      "           1       0.55      0.26      0.35       739\n",
      "\n",
      "    accuracy                           0.89      6673\n",
      "   macro avg       0.73      0.61      0.65      6673\n",
      "weighted avg       0.87      0.89      0.88      6673\n",
      "\n"
     ]
    }
   ],
   "source": [
    "dt = DecisionTreeClassifier(criterion=\"log_loss\")\n",
    "dt.fit(X_train, y_train)\n",
    "y_pred = dt.predict(X_val)\n",
    "\n",
    "\n",
    "print(\"Precision:\",metrics.precision_score(y_val, y_pred))\n",
    "print(\"Confusion Matrix:\")\n",
    "print(confusion_matrix(y_val, y_pred))\n",
    "print(\"Classification Report:\")\n",
    "print(metrics.classification_report(y_val, y_pred))"
   ]
  },
  {
   "cell_type": "code",
   "execution_count": 35,
   "metadata": {},
   "outputs": [
    {
     "name": "stdout",
     "output_type": "stream",
     "text": [
      "Precision: 0.5960591133004927\n",
      "Confusion Matrix:\n",
      "[[3169   82]\n",
      " [ 335  121]]\n",
      "Classification Report:\n",
      "              precision    recall  f1-score   support\n",
      "\n",
      "           0       0.90      0.97      0.94      3251\n",
      "           1       0.60      0.27      0.37       456\n",
      "\n",
      "    accuracy                           0.89      3707\n",
      "   macro avg       0.75      0.62      0.65      3707\n",
      "weighted avg       0.87      0.89      0.87      3707\n",
      "\n"
     ]
    }
   ],
   "source": [
    "dt = DecisionTreeClassifier(criterion=\"log_loss\")\n",
    "dt.fit(X_train, y_train)\n",
    "y_pred = dt.predict(X_test)\n",
    "\n",
    "\n",
    "print(\"Precision:\",metrics.precision_score(y_test, y_pred))\n",
    "print(\"Confusion Matrix:\")\n",
    "print(confusion_matrix(y_test, y_pred))\n",
    "print(\"Classification Report:\")\n",
    "print(metrics.classification_report(y_test, y_pred))"
   ]
  }
 ],
 "metadata": {
  "kernelspec": {
   "display_name": "Python 3",
   "language": "python",
   "name": "python3"
  },
  "language_info": {
   "codemirror_mode": {
    "name": "ipython",
    "version": 3
   },
   "file_extension": ".py",
   "mimetype": "text/x-python",
   "name": "python",
   "nbconvert_exporter": "python",
   "pygments_lexer": "ipython3",
   "version": "3.10.7"
  },
  "orig_nbformat": 4
 },
 "nbformat": 4,
 "nbformat_minor": 2
}
