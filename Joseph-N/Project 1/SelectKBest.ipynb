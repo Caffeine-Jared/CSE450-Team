{
 "cells": [
  {
   "cell_type": "code",
   "execution_count": 2,
   "metadata": {},
   "outputs": [],
   "source": [
    "#Imports\n",
    "import pandas as pd\n",
    "import altair as alt\n",
    "import numpy as np\n",
    "from sklearn import tree\n",
    "from sklearn.tree import DecisionTreeClassifier\n",
    "from sklearn.neighbors import KNeighborsClassifier\n",
    "from sklearn.metrics import accuracy_score\n",
    "from sklearn.metrics import classification_report\n",
    "from sklearn.metrics import precision_score\n",
    "from sklearn.metrics import confusion_matrix\n",
    "from sklearn.feature_selection import mutual_info_classif\n",
    "from sklearn.feature_selection import SelectKBest\n",
    "from sklearn import metrics\n",
    "from sklearn.model_selection import train_test_split\n",
    "import seaborn as sns\n",
    "sns.set_theme(style=\"ticks\")\n",
    "import matplotlib.pyplot as plt"
   ]
  },
  {
   "cell_type": "code",
   "execution_count": 3,
   "metadata": {},
   "outputs": [
    {
     "name": "stdout",
     "output_type": "stream",
     "text": [
      "<class 'pandas.core.frame.DataFrame'>\n",
      "Int64Index: 37069 entries, 0 to 37068\n",
      "Data columns (total 20 columns):\n",
      " #   Column          Non-Null Count  Dtype  \n",
      "---  ------          --------------  -----  \n",
      " 0   age             37069 non-null  int64  \n",
      " 1   job             37069 non-null  int64  \n",
      " 2   marital         37069 non-null  int64  \n",
      " 3   education       37069 non-null  int64  \n",
      " 4   default         37069 non-null  int64  \n",
      " 5   housing         37069 non-null  int64  \n",
      " 6   loan            37069 non-null  int64  \n",
      " 7   contact         37069 non-null  int64  \n",
      " 8   month           37069 non-null  int64  \n",
      " 9   day_of_week     37069 non-null  int64  \n",
      " 10  campaign        37069 non-null  int64  \n",
      " 11  pdays           37069 non-null  int64  \n",
      " 12  previous        37069 non-null  int64  \n",
      " 13  poutcome        37069 non-null  int64  \n",
      " 14  emp.var.rate    37069 non-null  float64\n",
      " 15  cons.price.idx  37069 non-null  float64\n",
      " 16  cons.conf.idx   37069 non-null  float64\n",
      " 17  euribor3m       37069 non-null  float64\n",
      " 18  nr.employed     37069 non-null  float64\n",
      " 19  y               37069 non-null  int64  \n",
      "dtypes: float64(5), int64(15)\n",
      "memory usage: 5.9 MB\n"
     ]
    }
   ],
   "source": [
    "data = pd.read_csv('https://raw.githubusercontent.com/byui-cse/cse450-course/master/data/bank.csv')\n",
    "\n",
    "testClean = data\n",
    "testClean[\"job\"] = testClean[\"job\"].replace(['unknown'], \"admin.\")\n",
    "testClean[\"marital\"] = testClean[\"marital\"].replace(['unknown'], \"married\")\n",
    "testClean[\"education\"] = testClean[\"education\"].replace(['unknown'], \"university.degree\")\n",
    "testClean[\"default\"] = testClean[\"default\"].replace(['unknown'], \"no\")\n",
    "testClean[\"housing\"] = testClean[\"housing\"].replace(['unknown'], \"yes\")\n",
    "testClean[\"loan\"] = testClean[\"loan\"].replace(['unknown'], \"no\")\n",
    "testClean['poutcome'] = testClean['poutcome'].replace(['nonexistent'], \"failure\")\n",
    "testClean['pdays'] = testClean['pdays'].apply(lambda x: 0 if x == 999 else x)\n",
    "testClean[['job','marital',\"education\",'default','housing','contact','month','day_of_week','poutcome','loan','y']] = testClean[['job','marital',\"education\",'default','housing','contact','month','day_of_week','poutcome','loan','y']].apply(lambda x: pd.factorize(x)[0])\n",
    "testClean = testClean[~testClean['pdays'].isna()]\n",
    "testClean.info()"
   ]
  },
  {
   "cell_type": "code",
   "execution_count": 4,
   "metadata": {},
   "outputs": [],
   "source": [
    "X = testClean.drop('y', axis=1)\n",
    "y = testClean['y']\n",
    "#X.head()"
   ]
  },
  {
   "cell_type": "code",
   "execution_count": 8,
   "metadata": {},
   "outputs": [
    {
     "ename": "KeyboardInterrupt",
     "evalue": "",
     "output_type": "error",
     "traceback": [
      "\u001b[0;31m---------------------------------------------------------------------------\u001b[0m",
      "\u001b[0;31mKeyboardInterrupt\u001b[0m                         Traceback (most recent call last)",
      "\u001b[1;32m/Users/jneyra/Documents/GitHub/CSE450-Team/Joseph-N/SelectKBest.ipynb Cell 4\u001b[0m in \u001b[0;36m1\n\u001b[0;32m----> <a href='vscode-notebook-cell:/Users/jneyra/Documents/GitHub/CSE450-Team/Joseph-N/SelectKBest.ipynb#W3sZmlsZQ%3D%3D?line=0'>1</a>\u001b[0m mutual_info \u001b[39m=\u001b[39m mutual_info_classif(X, y)\n\u001b[1;32m      <a href='vscode-notebook-cell:/Users/jneyra/Documents/GitHub/CSE450-Team/Joseph-N/SelectKBest.ipynb#W3sZmlsZQ%3D%3D?line=1'>2</a>\u001b[0m mutual_info \u001b[39m=\u001b[39m pd\u001b[39m.\u001b[39mSeries(mutual_info)\n\u001b[1;32m      <a href='vscode-notebook-cell:/Users/jneyra/Documents/GitHub/CSE450-Team/Joseph-N/SelectKBest.ipynb#W3sZmlsZQ%3D%3D?line=2'>3</a>\u001b[0m mutual_info\u001b[39m.\u001b[39mindex \u001b[39m=\u001b[39m X\u001b[39m.\u001b[39mcolumns\n",
      "File \u001b[0;32m/Library/Frameworks/Python.framework/Versions/3.10/lib/python3.10/site-packages/sklearn/feature_selection/_mutual_info.py:469\u001b[0m, in \u001b[0;36mmutual_info_classif\u001b[0;34m(X, y, discrete_features, n_neighbors, copy, random_state)\u001b[0m\n\u001b[1;32m    395\u001b[0m \u001b[39m\"\"\"Estimate mutual information for a discrete target variable.\u001b[39;00m\n\u001b[1;32m    396\u001b[0m \n\u001b[1;32m    397\u001b[0m \u001b[39mMutual information (MI) [1]_ between two random variables is a non-negative\u001b[39;00m\n\u001b[0;32m   (...)\u001b[0m\n\u001b[1;32m    466\u001b[0m \u001b[39m       of a Random Vector:, Probl. Peredachi Inf., 23:2 (1987), 9-16\u001b[39;00m\n\u001b[1;32m    467\u001b[0m \u001b[39m\"\"\"\u001b[39;00m\n\u001b[1;32m    468\u001b[0m check_classification_targets(y)\n\u001b[0;32m--> 469\u001b[0m \u001b[39mreturn\u001b[39;00m _estimate_mi(X, y, discrete_features, \u001b[39mTrue\u001b[39;49;00m, n_neighbors, copy, random_state)\n",
      "File \u001b[0;32m/Library/Frameworks/Python.framework/Versions/3.10/lib/python3.10/site-packages/sklearn/feature_selection/_mutual_info.py:305\u001b[0m, in \u001b[0;36m_estimate_mi\u001b[0;34m(X, y, discrete_features, discrete_target, n_neighbors, copy, random_state)\u001b[0m\n\u001b[1;32m    298\u001b[0m     y \u001b[39m=\u001b[39m scale(y, with_mean\u001b[39m=\u001b[39m\u001b[39mFalse\u001b[39;00m)\n\u001b[1;32m    299\u001b[0m     y \u001b[39m+\u001b[39m\u001b[39m=\u001b[39m (\n\u001b[1;32m    300\u001b[0m         \u001b[39m1e-10\u001b[39m\n\u001b[1;32m    301\u001b[0m         \u001b[39m*\u001b[39m np\u001b[39m.\u001b[39mmaximum(\u001b[39m1\u001b[39m, np\u001b[39m.\u001b[39mmean(np\u001b[39m.\u001b[39mabs(y)))\n\u001b[1;32m    302\u001b[0m         \u001b[39m*\u001b[39m rng\u001b[39m.\u001b[39mstandard_normal(size\u001b[39m=\u001b[39mn_samples)\n\u001b[1;32m    303\u001b[0m     )\n\u001b[0;32m--> 305\u001b[0m mi \u001b[39m=\u001b[39m [\n\u001b[1;32m    306\u001b[0m     _compute_mi(x, y, discrete_feature, discrete_target, n_neighbors)\n\u001b[1;32m    307\u001b[0m     \u001b[39mfor\u001b[39;00m x, discrete_feature \u001b[39min\u001b[39;00m \u001b[39mzip\u001b[39m(_iterate_columns(X), discrete_mask)\n\u001b[1;32m    308\u001b[0m ]\n\u001b[1;32m    310\u001b[0m \u001b[39mreturn\u001b[39;00m np\u001b[39m.\u001b[39marray(mi)\n",
      "File \u001b[0;32m/Library/Frameworks/Python.framework/Versions/3.10/lib/python3.10/site-packages/sklearn/feature_selection/_mutual_info.py:306\u001b[0m, in \u001b[0;36m<listcomp>\u001b[0;34m(.0)\u001b[0m\n\u001b[1;32m    298\u001b[0m     y \u001b[39m=\u001b[39m scale(y, with_mean\u001b[39m=\u001b[39m\u001b[39mFalse\u001b[39;00m)\n\u001b[1;32m    299\u001b[0m     y \u001b[39m+\u001b[39m\u001b[39m=\u001b[39m (\n\u001b[1;32m    300\u001b[0m         \u001b[39m1e-10\u001b[39m\n\u001b[1;32m    301\u001b[0m         \u001b[39m*\u001b[39m np\u001b[39m.\u001b[39mmaximum(\u001b[39m1\u001b[39m, np\u001b[39m.\u001b[39mmean(np\u001b[39m.\u001b[39mabs(y)))\n\u001b[1;32m    302\u001b[0m         \u001b[39m*\u001b[39m rng\u001b[39m.\u001b[39mstandard_normal(size\u001b[39m=\u001b[39mn_samples)\n\u001b[1;32m    303\u001b[0m     )\n\u001b[1;32m    305\u001b[0m mi \u001b[39m=\u001b[39m [\n\u001b[0;32m--> 306\u001b[0m     _compute_mi(x, y, discrete_feature, discrete_target, n_neighbors)\n\u001b[1;32m    307\u001b[0m     \u001b[39mfor\u001b[39;00m x, discrete_feature \u001b[39min\u001b[39;00m \u001b[39mzip\u001b[39m(_iterate_columns(X), discrete_mask)\n\u001b[1;32m    308\u001b[0m ]\n\u001b[1;32m    310\u001b[0m \u001b[39mreturn\u001b[39;00m np\u001b[39m.\u001b[39marray(mi)\n",
      "File \u001b[0;32m/Library/Frameworks/Python.framework/Versions/3.10/lib/python3.10/site-packages/sklearn/feature_selection/_mutual_info.py:163\u001b[0m, in \u001b[0;36m_compute_mi\u001b[0;34m(x, y, x_discrete, y_discrete, n_neighbors)\u001b[0m\n\u001b[1;32m    161\u001b[0m     \u001b[39mreturn\u001b[39;00m _compute_mi_cd(y, x, n_neighbors)\n\u001b[1;32m    162\u001b[0m \u001b[39melif\u001b[39;00m \u001b[39mnot\u001b[39;00m x_discrete \u001b[39mand\u001b[39;00m y_discrete:\n\u001b[0;32m--> 163\u001b[0m     \u001b[39mreturn\u001b[39;00m _compute_mi_cd(x, y, n_neighbors)\n\u001b[1;32m    164\u001b[0m \u001b[39melse\u001b[39;00m:\n\u001b[1;32m    165\u001b[0m     \u001b[39mreturn\u001b[39;00m _compute_mi_cc(x, y, n_neighbors)\n",
      "File \u001b[0;32m/Library/Frameworks/Python.framework/Versions/3.10/lib/python3.10/site-packages/sklearn/feature_selection/_mutual_info.py:139\u001b[0m, in \u001b[0;36m_compute_mi_cd\u001b[0;34m(c, d, n_neighbors)\u001b[0m\n\u001b[1;32m    136\u001b[0m radius \u001b[39m=\u001b[39m radius[mask]\n\u001b[1;32m    138\u001b[0m kd \u001b[39m=\u001b[39m KDTree(c)\n\u001b[0;32m--> 139\u001b[0m m_all \u001b[39m=\u001b[39m kd\u001b[39m.\u001b[39;49mquery_radius(c, radius, count_only\u001b[39m=\u001b[39;49m\u001b[39mTrue\u001b[39;49;00m, return_distance\u001b[39m=\u001b[39;49m\u001b[39mFalse\u001b[39;49;00m)\n\u001b[1;32m    140\u001b[0m m_all \u001b[39m=\u001b[39m np\u001b[39m.\u001b[39marray(m_all) \u001b[39m-\u001b[39m \u001b[39m1.0\u001b[39m\n\u001b[1;32m    142\u001b[0m mi \u001b[39m=\u001b[39m (\n\u001b[1;32m    143\u001b[0m     digamma(n_samples)\n\u001b[1;32m    144\u001b[0m     \u001b[39m+\u001b[39m np\u001b[39m.\u001b[39mmean(digamma(k_all))\n\u001b[1;32m    145\u001b[0m     \u001b[39m-\u001b[39m np\u001b[39m.\u001b[39mmean(digamma(label_counts))\n\u001b[1;32m    146\u001b[0m     \u001b[39m-\u001b[39m np\u001b[39m.\u001b[39mmean(digamma(m_all \u001b[39m+\u001b[39m \u001b[39m1\u001b[39m))\n\u001b[1;32m    147\u001b[0m )\n",
      "\u001b[0;31mKeyboardInterrupt\u001b[0m: "
     ]
    }
   ],
   "source": [
    "mutual_info = mutual_info_classif(X, y)\n",
    "mutual_info = pd.Series(mutual_info)\n",
    "mutual_info.index = X.columns\n",
    "mutual_info.sort_values(ascending=False)"
   ]
  },
  {
   "cell_type": "code",
   "execution_count": 5,
   "metadata": {},
   "outputs": [],
   "source": [
    "sel_three_feat = SelectKBest(mutual_info_classif, k=6).fit(X, y)\n",
    "sel_bool = sel_three_feat.get_support()\n",
    "X_sel = X[X.columns[sel_bool]]\n",
    "#X_sel.head()"
   ]
  },
  {
   "cell_type": "code",
   "execution_count": 6,
   "metadata": {},
   "outputs": [],
   "source": [
    "X_main, X_test, y_main, y_test = train_test_split(X_sel, y, test_size=0.1 , random_state=42)\n",
    "X_train, X_val, y_train, y_val = train_test_split(X_main, y_main, test_size=0.2, random_state=42)"
   ]
  },
  {
   "cell_type": "code",
   "execution_count": 7,
   "metadata": {},
   "outputs": [
    {
     "name": "stdout",
     "output_type": "stream",
     "text": [
      "Precision: 0.5506756756756757\n",
      "Confusion Matrix:\n",
      "[[5801  133]\n",
      " [ 576  163]]\n",
      "Classification Report:\n",
      "              precision    recall  f1-score   support\n",
      "\n",
      "           0       0.91      0.98      0.94      5934\n",
      "           1       0.55      0.22      0.31       739\n",
      "\n",
      "    accuracy                           0.89      6673\n",
      "   macro avg       0.73      0.60      0.63      6673\n",
      "weighted avg       0.87      0.89      0.87      6673\n",
      "\n"
     ]
    }
   ],
   "source": [
    "dt = DecisionTreeClassifier(criterion=\"log_loss\")\n",
    "dt.fit(X_train, y_train)\n",
    "y_pred = dt.predict(X_val)\n",
    "\n",
    "\n",
    "print(\"Precision:\",metrics.precision_score(y_val, y_pred))\n",
    "print(\"Confusion Matrix:\")\n",
    "print(confusion_matrix(y_val, y_pred))\n",
    "print(\"Classification Report:\")\n",
    "print(metrics.classification_report(y_val, y_pred))"
   ]
  },
  {
   "cell_type": "code",
   "execution_count": 37,
   "metadata": {},
   "outputs": [
    {
     "name": "stdout",
     "output_type": "stream",
     "text": [
      "Precision: 0.5960591133004927\n",
      "Confusion Matrix:\n",
      "[[3169   82]\n",
      " [ 335  121]]\n",
      "Classification Report:\n",
      "              precision    recall  f1-score   support\n",
      "\n",
      "           0       0.90      0.97      0.94      3251\n",
      "           1       0.60      0.27      0.37       456\n",
      "\n",
      "    accuracy                           0.89      3707\n",
      "   macro avg       0.75      0.62      0.65      3707\n",
      "weighted avg       0.87      0.89      0.87      3707\n",
      "\n"
     ]
    }
   ],
   "source": [
    "dt = DecisionTreeClassifier(criterion=\"log_loss\")\n",
    "dt.fit(X_train, y_train)\n",
    "y_pred = dt.predict(X_test)\n",
    "\n",
    "\n",
    "print(\"Precision:\",metrics.precision_score(y_test, y_pred))\n",
    "print(\"Confusion Matrix:\")\n",
    "print(confusion_matrix(y_test, y_pred))\n",
    "print(\"Classification Report:\")\n",
    "print(metrics.classification_report(y_test, y_pred))"
   ]
  }
 ],
 "metadata": {
  "kernelspec": {
   "display_name": "Python 3",
   "language": "python",
   "name": "python3"
  },
  "language_info": {
   "codemirror_mode": {
    "name": "ipython",
    "version": 3
   },
   "file_extension": ".py",
   "mimetype": "text/x-python",
   "name": "python",
   "nbconvert_exporter": "python",
   "pygments_lexer": "ipython3",
   "version": "3.10.7"
  },
  "orig_nbformat": 4
 },
 "nbformat": 4,
 "nbformat_minor": 2
}
