{
 "cells": [
  {
   "cell_type": "code",
   "execution_count": 1,
   "metadata": {
    "dotnet_interactive": {
     "language": "csharp"
    },
    "polyglot_notebook": {
     "kernelName": "csharp"
    }
   },
   "outputs": [
    {
     "name": "stderr",
     "output_type": "stream",
     "text": [
      "c:\\Users\\Blake Dennett\\AppData\\Local\\Programs\\Python\\Python310\\lib\\site-packages\\altair\\utils\\core.py:317: FutureWarning: iteritems is deprecated and will be removed in a future version. Use .items instead.\n",
      "  for col_name, dtype in df.dtypes.iteritems():\n"
     ]
    },
    {
     "data": {
      "text/html": [
       "\n",
       "<div id=\"altair-viz-c607f24a20354ee2948d96c0c3111167\"></div>\n",
       "<script type=\"text/javascript\">\n",
       "  var VEGA_DEBUG = (typeof VEGA_DEBUG == \"undefined\") ? {} : VEGA_DEBUG;\n",
       "  (function(spec, embedOpt){\n",
       "    let outputDiv = document.currentScript.previousElementSibling;\n",
       "    if (outputDiv.id !== \"altair-viz-c607f24a20354ee2948d96c0c3111167\") {\n",
       "      outputDiv = document.getElementById(\"altair-viz-c607f24a20354ee2948d96c0c3111167\");\n",
       "    }\n",
       "    const paths = {\n",
       "      \"vega\": \"https://cdn.jsdelivr.net/npm//vega@5?noext\",\n",
       "      \"vega-lib\": \"https://cdn.jsdelivr.net/npm//vega-lib?noext\",\n",
       "      \"vega-lite\": \"https://cdn.jsdelivr.net/npm//vega-lite@4.17.0?noext\",\n",
       "      \"vega-embed\": \"https://cdn.jsdelivr.net/npm//vega-embed@6?noext\",\n",
       "    };\n",
       "\n",
       "    function maybeLoadScript(lib, version) {\n",
       "      var key = `${lib.replace(\"-\", \"\")}_version`;\n",
       "      return (VEGA_DEBUG[key] == version) ?\n",
       "        Promise.resolve(paths[lib]) :\n",
       "        new Promise(function(resolve, reject) {\n",
       "          var s = document.createElement('script');\n",
       "          document.getElementsByTagName(\"head\")[0].appendChild(s);\n",
       "          s.async = true;\n",
       "          s.onload = () => {\n",
       "            VEGA_DEBUG[key] = version;\n",
       "            return resolve(paths[lib]);\n",
       "          };\n",
       "          s.onerror = () => reject(`Error loading script: ${paths[lib]}`);\n",
       "          s.src = paths[lib];\n",
       "        });\n",
       "    }\n",
       "\n",
       "    function showError(err) {\n",
       "      outputDiv.innerHTML = `<div class=\"error\" style=\"color:red;\">${err}</div>`;\n",
       "      throw err;\n",
       "    }\n",
       "\n",
       "    function displayChart(vegaEmbed) {\n",
       "      vegaEmbed(outputDiv, spec, embedOpt)\n",
       "        .catch(err => showError(`Javascript Error: ${err.message}<br>This usually means there's a typo in your chart specification. See the javascript console for the full traceback.`));\n",
       "    }\n",
       "\n",
       "    if(typeof define === \"function\" && define.amd) {\n",
       "      requirejs.config({paths});\n",
       "      require([\"vega-embed\"], displayChart, err => showError(`Error loading script: ${err.message}`));\n",
       "    } else {\n",
       "      maybeLoadScript(\"vega\", \"5\")\n",
       "        .then(() => maybeLoadScript(\"vega-lite\", \"4.17.0\"))\n",
       "        .then(() => maybeLoadScript(\"vega-embed\", \"6\"))\n",
       "        .catch(showError)\n",
       "        .then(() => displayChart(vegaEmbed));\n",
       "    }\n",
       "  })({\"config\": {\"view\": {\"continuousWidth\": 400, \"continuousHeight\": 300}}, \"data\": {\"name\": \"data-9fea1ff6d9d04a515c4a67b0c901a2c5\"}, \"mark\": \"bar\", \"encoding\": {\"x\": {\"field\": \"features\", \"sort\": \"-y\", \"title\": \"Features\", \"type\": \"nominal\"}, \"y\": {\"field\": \"importance\", \"title\": \"Importance\", \"type\": \"quantitative\"}}, \"title\": \"Bank features by importance\", \"width\": 1000, \"$schema\": \"https://vega.github.io/schema/vega-lite/v4.17.0.json\", \"datasets\": {\"data-9fea1ff6d9d04a515c4a67b0c901a2c5\": [{\"features\": \"age\", \"importance\": 0.15055819882186183}, {\"features\": \"campaign\", \"importance\": 0.07919716580582982}, {\"features\": \"pdays\", \"importance\": 0.02953562629327784}, {\"features\": \"previous\", \"importance\": 0.01764763088685462}, {\"features\": \"emp.var.rate\", \"importance\": 0.020778308419931432}, {\"features\": \"cons.price.idx\", \"importance\": 0.02066574697533971}, {\"features\": \"cons.conf.idx\", \"importance\": 0.02853755452621051}, {\"features\": \"euribor3m\", \"importance\": 0.12623485957085925}, {\"features\": \"nr.employed\", \"importance\": 0.053035477482151136}, {\"features\": \"job_admin.\", \"importance\": 0.017892752260692195}, {\"features\": \"job_blue-collar\", \"importance\": 0.011579973575472788}, {\"features\": \"job_entrepreneur\", \"importance\": 0.005267544553901501}, {\"features\": \"job_housemaid\", \"importance\": 0.004279639704923228}, {\"features\": \"job_management\", \"importance\": 0.0095534206722607}, {\"features\": \"job_retired\", \"importance\": 0.007110772407609649}, {\"features\": \"job_self-employed\", \"importance\": 0.0062215703490391}, {\"features\": \"job_services\", \"importance\": 0.008987696314100804}, {\"features\": \"job_student\", \"importance\": 0.005770230009587322}, {\"features\": \"job_technician\", \"importance\": 0.014264376594837112}, {\"features\": \"job_unemployed\", \"importance\": 0.0048732121677536695}, {\"features\": \"job_unknown\", \"importance\": 0.0022421175818169827}, {\"features\": \"marital_divorced\", \"importance\": 0.010666145865024224}, {\"features\": \"marital_married\", \"importance\": 0.017743279327580543}, {\"features\": \"marital_single\", \"importance\": 0.016143244554524153}, {\"features\": \"marital_unknown\", \"importance\": 0.0006826548800255899}, {\"features\": \"education_basic.4y\", \"importance\": 0.008330871806361025}, {\"features\": \"education_basic.6y\", \"importance\": 0.007046522209492766}, {\"features\": \"education_basic.9y\", \"importance\": 0.01114876034537164}, {\"features\": \"education_high.school\", \"importance\": 0.016709786153361432}, {\"features\": \"education_illiterate\", \"importance\": 0.0003430941941612316}, {\"features\": \"education_professional.course\", \"importance\": 0.01193333548988202}, {\"features\": \"education_university.degree\", \"importance\": 0.016371251361005628}, {\"features\": \"education_unknown\", \"importance\": 0.0067715319697176715}, {\"features\": \"default_no\", \"importance\": 0.008019159089688699}, {\"features\": \"default_unknown\", \"importance\": 0.008427470220437893}, {\"features\": \"default_yes\", \"importance\": 1.8153682989283494e-07}, {\"features\": \"housing_no\", \"importance\": 0.020437715174763813}, {\"features\": \"housing_unknown\", \"importance\": 0.002530505741037754}, {\"features\": \"housing_yes\", \"importance\": 0.0207976205873022}, {\"features\": \"loan_no\", \"importance\": 0.013648895595652516}, {\"features\": \"loan_unknown\", \"importance\": 0.0028336463627275077}, {\"features\": \"loan_yes\", \"importance\": 0.013451832769747252}, {\"features\": \"contact_cellular\", \"importance\": 0.008236568313314018}, {\"features\": \"contact_telephone\", \"importance\": 0.007884542682202792}, {\"features\": \"month_apr\", \"importance\": 0.004130093899392648}, {\"features\": \"month_aug\", \"importance\": 0.002708264696642176}, {\"features\": \"month_dec\", \"importance\": 0.0011772813969760326}, {\"features\": \"month_jul\", \"importance\": 0.002643342770578955}, {\"features\": \"month_jun\", \"importance\": 0.0034744772228236733}, {\"features\": \"month_mar\", \"importance\": 0.005140942253677836}, {\"features\": \"month_may\", \"importance\": 0.004482283096602824}, {\"features\": \"month_nov\", \"importance\": 0.0022458480734118915}, {\"features\": \"month_oct\", \"importance\": 0.006574393312058208}, {\"features\": \"month_sep\", \"importance\": 0.0030706955004967023}, {\"features\": \"day_of_week_fri\", \"importance\": 0.014079677959042095}, {\"features\": \"day_of_week_mon\", \"importance\": 0.015086313923125589}, {\"features\": \"day_of_week_thu\", \"importance\": 0.014146663577900634}, {\"features\": \"day_of_week_tue\", \"importance\": 0.014756061292823905}, {\"features\": \"day_of_week_wed\", \"importance\": 0.014963203837660874}, {\"features\": \"poutcome_failure\", \"importance\": 0.008730945649118072}, {\"features\": \"poutcome_nonexistent\", \"importance\": 0.008979459755997022}, {\"features\": \"poutcome_success\", \"importance\": 0.019217560577147443}]}}, {\"mode\": \"vega-lite\"});\n",
       "</script>"
      ],
      "text/plain": [
       "alt.Chart(...)"
      ]
     },
     "execution_count": 1,
     "metadata": {},
     "output_type": "execute_result"
    }
   ],
   "source": [
    "url = 'https://raw.githubusercontent.com/byui-cse/cse450-course/master/data/bank.csv'\n",
    "\n",
    "import pandas as pd\n",
    "from sklearn.model_selection import train_test_split\n",
    "from sklearn.tree import DecisionTreeClassifier\n",
    "from sklearn.ensemble import RandomForestClassifier\n",
    "import altair as alt\n",
    "\n",
    "dat = pd.read_csv(url)\n",
    "\n",
    "\n",
    "classifier = RandomForestClassifier(max_depth=30)\n",
    "\n",
    "X = dat.drop(columns='y')\n",
    "y = dat['y']\n",
    "\n",
    "X = pd.get_dummies(X)\n",
    "y = pd.get_dummies(y)\n",
    "\n",
    "x_train, x_test, y_train, y_test = train_test_split(X, y, test_size = .20, random_state=25)\n",
    "\n",
    "classifier.fit(x_train, y_train)\n",
    "\n",
    "feature_df = pd.DataFrame({'features':X.columns, 'importance':classifier.feature_importances_})\n",
    "\n",
    "key_features_chart = (alt.Chart(feature_df).encode(\n",
    "   x= alt.X(\"features\", title = \"Features\", sort='-y'),\n",
    "   y=  alt.Y(\"importance\", title = \"Importance\")\n",
    ").properties(width=1000,title=\"Bank features by importance\")\n",
    ".mark_bar()\n",
    ")\n",
    "\n",
    "key_features_chart"
   ]
  }
 ],
 "metadata": {
  "kernelspec": {
   "display_name": "Python 3",
   "language": "python",
   "name": "python3"
  },
  "language_info": {
   "codemirror_mode": {
    "name": "ipython",
    "version": 3
   },
   "file_extension": ".py",
   "mimetype": "text/x-python",
   "name": "python",
   "nbconvert_exporter": "python",
   "pygments_lexer": "ipython3",
   "version": "3.10.8"
  },
  "orig_nbformat": 4,
  "polyglot_notebook": {
   "kernelInfo": {
    "defaultKernelName": "csharp",
    "items": [
     {
      "aliases": [],
      "name": "csharp"
     }
    ]
   }
  }
 },
 "nbformat": 4,
 "nbformat_minor": 2
}
