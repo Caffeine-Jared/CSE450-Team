{
 "cells": [
  {
   "attachments": {},
   "cell_type": "markdown",
   "metadata": {},
   "source": [
    "# Data Analysis of Correlations within Bank Dataset"
   ]
  },
  {
   "attachments": {},
   "cell_type": "markdown",
   "metadata": {},
   "source": [
    "## Quantitative Data "
   ]
  },
  {
   "cell_type": "code",
   "execution_count": null,
   "metadata": {},
   "outputs": [],
   "source": [
    "#import dataframe \n",
    "url = ('https://raw.githubusercontent.com/byui-cse/cse450-course/master/data/bank.csv')"
   ]
  },
  {
   "cell_type": "code",
   "execution_count": null,
   "metadata": {},
   "outputs": [],
   "source": [
    "# import libraries \n",
    "import seaborn as sns\n",
    "import pandas as pd\n",
    "import altair as alt\n",
    "import matplotlib.pyplot as plt\n",
    "alt.data_transformers.disable_max_rows()"
   ]
  },
  {
   "cell_type": "code",
   "execution_count": null,
   "metadata": {},
   "outputs": [],
   "source": [
    "# define dataframe \n",
    "df = pd.read_csv('https://raw.githubusercontent.com/byui-cse/cse450-course/master/data/bank.csv')\n"
   ]
  },
  {
   "cell_type": "code",
   "execution_count": null,
   "metadata": {},
   "outputs": [],
   "source": [
    "# description of the data frame:\n",
    "df.head()"
   ]
  },
  {
   "cell_type": "code",
   "execution_count": null,
   "metadata": {},
   "outputs": [],
   "source": [
    "print(df.dtypes) \n",
    "df.info()\n",
    "print(df.columns)"
   ]
  },
  {
   "cell_type": "code",
   "execution_count": null,
   "metadata": {},
   "outputs": [],
   "source": [
    "quantitative = df[['age','campaign', 'pdays', 'previous', 'emp.var.rate','cons.price.idx','cons.conf.idx','euribor3m','nr.employed']]"
   ]
  },
  {
   "cell_type": "code",
   "execution_count": null,
   "metadata": {},
   "outputs": [],
   "source": [
    "#Describe column's correlations for numeric data \n",
    "heat = sns.heatmap(df.corr(),vmin=-1, vmax=1, annot=True, fmt='.2f')\n",
    "heat \n",
    "pair = sns.pairplot(quantitative)\n",
    "pair\n"
   ]
  },
  {
   "cell_type": "code",
   "execution_count": null,
   "metadata": {},
   "outputs": [],
   "source": [
    "# Modify the ['column'] to see specific values \n",
    "\n",
    "plt.figure(figsize=(8, 12))\n",
    "heatmap = sns.heatmap(df.corr()[['euribor3m']].sort_values(by='euribor3m', ascending=False), vmin=-1, vmax=1, annot=True, cmap='BrBG', fmt='.2f')\n",
    "heatmap.set_title('Features Correlating with euribor3m', fontdict={'fontsize':18}, pad=16)"
   ]
  },
  {
   "attachments": {},
   "cell_type": "markdown",
   "metadata": {},
   "source": [
    "## Qualitative Data "
   ]
  },
  {
   "cell_type": "code",
   "execution_count": null,
   "metadata": {},
   "outputs": [],
   "source": [
    "# efine Dataframe for categorical data\n",
    "categorical = df[['job','marital','education','default','housing','loan','contact','month','day_of_week','poutcome', 'y']]"
   ]
  },
  {
   "cell_type": "code",
   "execution_count": null,
   "metadata": {},
   "outputs": [],
   "source": [
    "categorical.head()"
   ]
  },
  {
   "attachments": {},
   "cell_type": "markdown",
   "metadata": {},
   "source": [
    "### Correlation for Jobs "
   ]
  },
  {
   "cell_type": "code",
   "execution_count": null,
   "metadata": {},
   "outputs": [],
   "source": [
    "job_chart = alt.Chart(df).mark_bar().encode(\n",
    "    x='job',\n",
    "    y=alt.Y('y:Q', aggregate='count'),\n",
    "    color='y'\n",
    ")\n",
    "\n",
    "job_chart2 = alt.Chart(df).mark_circle().encode(\n",
    "    x='job',\n",
    "    y=alt.Y('y:Q', aggregate='count'),\n",
    "    color='y'\n",
    ")\n",
    "\n",
    "crosstab = pd.crosstab(df['job'], df['y'])\n",
    "print(crosstab)\n",
    "\n",
    "(job_chart & job_chart2) "
   ]
  },
  {
   "attachments": {},
   "cell_type": "markdown",
   "metadata": {},
   "source": [
    "### Correlation for marital"
   ]
  },
  {
   "cell_type": "code",
   "execution_count": null,
   "metadata": {},
   "outputs": [],
   "source": [
    "marital_chart = alt.Chart(df).mark_bar().encode(\n",
    "    x='marital',\n",
    "    y=alt.Y('y:Q', aggregate='count'),\n",
    "    color='y'\n",
    ")\n",
    "\n",
    "marital_chart2 = alt.Chart(df).mark_circle().encode(\n",
    "    x='marital',\n",
    "    y=alt.Y('y:Q', aggregate='count'),\n",
    "    color='y'\n",
    ")\n",
    "\n",
    "crosstab = pd.crosstab(df['marital'], df['y'])\n",
    "print(crosstab)\n",
    "\n",
    "(marital_chart & marital_chart2) \n"
   ]
  },
  {
   "attachments": {},
   "cell_type": "markdown",
   "metadata": {},
   "source": [
    "### Correlation for Education"
   ]
  },
  {
   "cell_type": "code",
   "execution_count": null,
   "metadata": {},
   "outputs": [],
   "source": [
    "education_chart = alt.Chart(df).mark_bar().encode(\n",
    "    x='education',\n",
    "    y=alt.Y('y:Q', aggregate='count'),\n",
    "    color='y'\n",
    ")\n",
    "\n",
    "education_chart2 = alt.Chart(df).mark_circle().encode(\n",
    "    x='education',\n",
    "    y=alt.Y('y:Q', aggregate='count'),\n",
    "    color='y'\n",
    ")\n",
    "\n",
    "crosstab = pd.crosstab(df['education'], df['y'])\n",
    "print(crosstab)\n",
    "\n",
    "(education_chart & education_chart2) "
   ]
  },
  {
   "attachments": {},
   "cell_type": "markdown",
   "metadata": {},
   "source": [
    "### Correlation for Default "
   ]
  },
  {
   "cell_type": "code",
   "execution_count": null,
   "metadata": {},
   "outputs": [],
   "source": [
    "default_chart = alt.Chart(df).mark_bar().encode(\n",
    "    x='default',\n",
    "    y=alt.Y('y:Q', aggregate='count'),\n",
    "    color='y'\n",
    ")\n",
    "\n",
    "default_chart2 = alt.Chart(df).mark_circle().encode(\n",
    "    x='default',\n",
    "    y=alt.Y('y:Q', aggregate='count'),\n",
    "    color='y'\n",
    ")\n",
    "\n",
    "crosstab = pd.crosstab(df['default'], df['y'])\n",
    "print(crosstab)\n",
    "\n",
    "(default_chart & default_chart2) "
   ]
  },
  {
   "attachments": {},
   "cell_type": "markdown",
   "metadata": {},
   "source": [
    "### Correlation for Housing "
   ]
  },
  {
   "cell_type": "code",
   "execution_count": null,
   "metadata": {},
   "outputs": [],
   "source": [
    "housing_chart = alt.Chart(df).mark_bar().encode(\n",
    "    x='housing',\n",
    "    y=alt.Y('y:Q', aggregate='count'),\n",
    "    color='y'\n",
    ")\n",
    "\n",
    "housing_chart2 = alt.Chart(df).mark_circle().encode(\n",
    "    x='housing',\n",
    "    y=alt.Y('y:Q', aggregate='count'),\n",
    "    color='y'\n",
    ")\n",
    "\n",
    "crosstab = pd.crosstab(df['housing'], df['y'])\n",
    "print(crosstab)\n",
    "\n",
    "(housing_chart & housing_chart2) "
   ]
  },
  {
   "attachments": {},
   "cell_type": "markdown",
   "metadata": {},
   "source": [
    "### Correlation for Loan"
   ]
  },
  {
   "cell_type": "code",
   "execution_count": null,
   "metadata": {},
   "outputs": [],
   "source": [
    "loan_chart = alt.Chart(df).mark_bar().encode(\n",
    "    x='loan',\n",
    "    y=alt.Y('y:Q', aggregate='count'),\n",
    "    color='y'\n",
    ")\n",
    "\n",
    "loan_chart2 = alt.Chart(df).mark_circle().encode(\n",
    "    x='loan',\n",
    "    y=alt.Y('y:Q', aggregate='count'),\n",
    "    color='y'\n",
    ")\n",
    "\n",
    "crosstab = pd.crosstab(df['loan'], df['y'])\n",
    "print(crosstab)\n",
    "\n",
    "(loan_chart & loan_chart2) "
   ]
  },
  {
   "attachments": {},
   "cell_type": "markdown",
   "metadata": {},
   "source": [
    "### Correlation for contact"
   ]
  },
  {
   "cell_type": "code",
   "execution_count": null,
   "metadata": {},
   "outputs": [],
   "source": [
    "contact_chart = alt.Chart(df).mark_bar().encode(\n",
    "    x='contact',\n",
    "    y=alt.Y('y:Q', aggregate='count'),\n",
    "    color='y'\n",
    ")\n",
    "\n",
    "contact_chart2 = alt.Chart(df).mark_circle().encode(\n",
    "    x='contact',\n",
    "    y=alt.Y('y:Q', aggregate='count'),\n",
    "    color='y'\n",
    ")\n",
    "\n",
    "crosstab = pd.crosstab(df['contact'], df['y'])\n",
    "print(crosstab)\n",
    "\n",
    "(contact_chart & contact_chart2) "
   ]
  },
  {
   "attachments": {},
   "cell_type": "markdown",
   "metadata": {},
   "source": [
    "### Correlation for Month "
   ]
  },
  {
   "cell_type": "code",
   "execution_count": null,
   "metadata": {},
   "outputs": [],
   "source": [
    "month_chart = alt.Chart(df).mark_bar().encode(\n",
    "    x='month',\n",
    "    y=alt.Y('y:Q', aggregate='count'),\n",
    "    color='y'\n",
    ")\n",
    "\n",
    "month_chart2 = alt.Chart(df).mark_circle().encode(\n",
    "    x='month',\n",
    "    y=alt.Y('y:Q', aggregate='count'),\n",
    "    color='y'\n",
    ")\n",
    "\n",
    "crosstab = pd.crosstab(df['month'], df['y'])\n",
    "print(crosstab)\n",
    "\n",
    "(month_chart & month_chart2) "
   ]
  },
  {
   "attachments": {},
   "cell_type": "markdown",
   "metadata": {},
   "source": [
    "### Correlation for day of week "
   ]
  },
  {
   "cell_type": "code",
   "execution_count": null,
   "metadata": {},
   "outputs": [],
   "source": [
    "day_of_week_chart = alt.Chart(df).mark_bar().encode(\n",
    "    x='day_of_week',\n",
    "    y=alt.Y('y:Q', aggregate='count'),\n",
    "    color='y'\n",
    ")\n",
    "\n",
    "day_of_week_chart2 = alt.Chart(df).mark_circle().encode(\n",
    "    x='day_of_week',\n",
    "    y=alt.Y('y:Q', aggregate='count'),\n",
    "    color='y'\n",
    ")\n",
    "\n",
    "crosstab = pd.crosstab(df['day_of_week'], df['y'])\n",
    "print(crosstab)\n",
    "\n",
    "(day_of_week_chart & day_of_week_chart2) "
   ]
  },
  {
   "attachments": {},
   "cell_type": "markdown",
   "metadata": {},
   "source": [
    "### Correlation for Poutcome "
   ]
  },
  {
   "cell_type": "code",
   "execution_count": null,
   "metadata": {},
   "outputs": [],
   "source": [
    "poutcome_chart = alt.Chart(df).mark_bar().encode(\n",
    "    x='poutcome',\n",
    "    y=alt.Y('y:Q', aggregate='count'),\n",
    "    color='y'\n",
    ")\n",
    "\n",
    "poutcome_chart2 = alt.Chart(df).mark_circle().encode(\n",
    "    x='poutcome',\n",
    "    y=alt.Y('y:Q', aggregate='count'),\n",
    "    color='y'\n",
    ")\n",
    "\n",
    "crosstab = pd.crosstab(df['poutcome'], df['y'])\n",
    "print(crosstab)\n",
    "\n",
    "(poutcome_chart & poutcome_chart2) "
   ]
  },
  {
   "cell_type": "code",
   "execution_count": null,
   "metadata": {},
   "outputs": [],
   "source": [
    "df['y'].describe()"
   ]
  }
 ],
 "metadata": {
  "kernelspec": {
   "display_name": "Python 3",
   "language": "python",
   "name": "python3"
  },
  "language_info": {
   "codemirror_mode": {
    "name": "ipython",
    "version": 3
   },
   "file_extension": ".py",
   "mimetype": "text/x-python",
   "name": "python",
   "nbconvert_exporter": "python",
   "pygments_lexer": "ipython3",
   "version": "3.8.7"
  },
  "orig_nbformat": 4
 },
 "nbformat": 4,
 "nbformat_minor": 2
}
