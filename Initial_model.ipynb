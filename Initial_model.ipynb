{
  "nbformat": 4,
  "nbformat_minor": 0,
  "metadata": {
    "colab": {
      "provenance": [],
      "authorship_tag": "ABX9TyOaeajgRDKbWJPJErwu30Xr",
      "include_colab_link": true
    },
    "kernelspec": {
      "name": "python3",
      "display_name": "Python 3"
    },
    "language_info": {
      "name": "python"
    }
  },
  "cells": [
    {
      "cell_type": "markdown",
      "metadata": {
        "id": "view-in-github",
        "colab_type": "text"
      },
      "source": [
        "<a href=\"https://colab.research.google.com/github/Caffeine-Jared/CSE450-Team/blob/main/Initial_model.ipynb\" target=\"_parent\"><img src=\"https://colab.research.google.com/assets/colab-badge.svg\" alt=\"Open In Colab\"/></a>"
      ]
    },
    {
      "cell_type": "markdown",
      "source": [
        "Initial Model - Working through the example code that was provided by the professor."
      ],
      "metadata": {
        "id": "w8AJLFDq_-Er"
      }
    },
    {
      "cell_type": "markdown",
      "source": [
        "Imports"
      ],
      "metadata": {
        "id": "KSe9ZbMDBIka"
      }
    },
    {
      "cell_type": "code",
      "execution_count": 1,
      "metadata": {
        "colab": {
          "base_uri": "https://localhost:8080/"
        },
        "id": "Y4ggu-08_3mF",
        "outputId": "6993f428-f72e-4c0b-dec5-0519b65e6523"
      },
      "outputs": [
        {
          "output_type": "stream",
          "name": "stdout",
          "text": [
            "<class 'pandas.core.frame.DataFrame'>\n",
            "RangeIndex: 16637 entries, 0 to 16636\n",
            "Data columns (total 12 columns):\n",
            " #   Column        Non-Null Count  Dtype  \n",
            "---  ------        --------------  -----  \n",
            " 0   dteday        16637 non-null  object \n",
            " 1   season        16637 non-null  int64  \n",
            " 2   hr            16637 non-null  int64  \n",
            " 3   holiday       16637 non-null  int64  \n",
            " 4   workingday    16637 non-null  int64  \n",
            " 5   weathersit    16637 non-null  int64  \n",
            " 6   hum           16637 non-null  float64\n",
            " 7   windspeed     16637 non-null  int64  \n",
            " 8   temp_c        16637 non-null  float64\n",
            " 9   feels_like_c  16637 non-null  float64\n",
            " 10  casual        16637 non-null  int64  \n",
            " 11  registered    16637 non-null  int64  \n",
            "dtypes: float64(3), int64(8), object(1)\n",
            "memory usage: 1.5+ MB\n"
          ]
        }
      ],
      "source": [
        "import pandas as pd\n",
        "import tensorflow as tf\n",
        "\n",
        "# loading in the bikes csv\n",
        "bikes_df = pd.read_csv('https://raw.githubusercontent.com/byui-cse/cse450-course/master/data/bikes.csv')\n",
        "bikes_mini = pd.read_csv('https://raw.githubusercontent.com/byui-cse/cse450-course/master/data/biking_holdout_test_mini.csv')\n",
        "bikes_holdout = pd.read_csv('https://raw.githubusercontent.com/byui-cse/cse450-course/master/data/bikes_december.csv')\n",
        "\n",
        "# check out the info\n",
        "bikes_df.info()"
      ]
    },
    {
      "cell_type": "code",
      "source": [
        "bikes_mini.info()"
      ],
      "metadata": {
        "colab": {
          "base_uri": "https://localhost:8080/"
        },
        "id": "-ifhWb55CmrN",
        "outputId": "35c9566b-913e-4dff-b500-530554f35f81"
      },
      "execution_count": 2,
      "outputs": [
        {
          "output_type": "stream",
          "name": "stdout",
          "text": [
            "<class 'pandas.core.frame.DataFrame'>\n",
            "RangeIndex: 35 entries, 0 to 34\n",
            "Data columns (total 10 columns):\n",
            " #   Column        Non-Null Count  Dtype  \n",
            "---  ------        --------------  -----  \n",
            " 0   dteday        35 non-null     object \n",
            " 1   season        35 non-null     int64  \n",
            " 2   hr            35 non-null     int64  \n",
            " 3   holiday       35 non-null     int64  \n",
            " 4   workingday    35 non-null     int64  \n",
            " 5   weathersit    35 non-null     int64  \n",
            " 6   hum           35 non-null     float64\n",
            " 7   windspeed     35 non-null     int64  \n",
            " 8   temp_c        35 non-null     float64\n",
            " 9   feels_like_c  35 non-null     float64\n",
            "dtypes: float64(3), int64(6), object(1)\n",
            "memory usage: 2.9+ KB\n"
          ]
        }
      ]
    },
    {
      "cell_type": "code",
      "source": [
        "bikes_holdout.info()"
      ],
      "metadata": {
        "colab": {
          "base_uri": "https://localhost:8080/"
        },
        "id": "tAVPjqQ0Cqqf",
        "outputId": "c18cf7f5-9b43-4fdf-b1f1-09c793bb0ae7"
      },
      "execution_count": 3,
      "outputs": [
        {
          "output_type": "stream",
          "name": "stdout",
          "text": [
            "<class 'pandas.core.frame.DataFrame'>\n",
            "RangeIndex: 742 entries, 0 to 741\n",
            "Data columns (total 10 columns):\n",
            " #   Column        Non-Null Count  Dtype  \n",
            "---  ------        --------------  -----  \n",
            " 0   dteday        742 non-null    object \n",
            " 1   season        742 non-null    int64  \n",
            " 2   hr            742 non-null    int64  \n",
            " 3   holiday       742 non-null    int64  \n",
            " 4   workingday    742 non-null    int64  \n",
            " 5   weathersit    742 non-null    int64  \n",
            " 6   hum           742 non-null    float64\n",
            " 7   windspeed     742 non-null    int64  \n",
            " 8   temp_c        742 non-null    float64\n",
            " 9   feels_like_c  742 non-null    float64\n",
            "dtypes: float64(3), int64(6), object(1)\n",
            "memory usage: 58.1+ KB\n"
          ]
        }
      ]
    },
    {
      "cell_type": "code",
      "source": [
        "# Preprocessing \n",
        "bikes_df = pd.todatetime(bikes_df['dteday'])\n",
        "\n"
      ],
      "metadata": {
        "id": "VlXM5n8TGNLM"
      },
      "execution_count": null,
      "outputs": []
    }
  ]
}