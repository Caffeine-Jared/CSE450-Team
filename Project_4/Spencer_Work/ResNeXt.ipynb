{
 "cells": [
  {
   "cell_type": "code",
   "execution_count": 1,
   "metadata": {},
   "outputs": [
    {
     "name": "stdout",
     "output_type": "stream",
     "text": [
      "set to GPU\n",
      "11.7\n"
     ]
    }
   ],
   "source": [
    "import torch\n",
    "import torch.nn as nn\n",
    "import torch.optim as optim\n",
    "from torchvision.models import resnext101_32x8d\n",
    "from torch.utils.data import DataLoader\n",
    "from torchvision.transforms import ToTensor\n",
    "from torchvision.datasets import ImageFolder\n",
    "\n",
    "device = torch.device(\"cuda\" if torch.cuda.is_available() else \"cpu\")\n",
    "\n",
    "# Set the CUDA device if available\n",
    "if torch.cuda.is_available():\n",
    "    torch.cuda.set_device(0)  # Set to the desired GPU device ID\n",
    "    print(\"set to GPU\")\n",
    "\n",
    "print(torch.version.cuda)"
   ]
  },
  {
   "cell_type": "code",
   "execution_count": 2,
   "metadata": {},
   "outputs": [
    {
     "name": "stdout",
     "output_type": "stream",
     "text": [
      "2.0.1+cu117\n"
     ]
    }
   ],
   "source": [
    "print(torch.__version__)"
   ]
  },
  {
   "cell_type": "code",
   "execution_count": 3,
   "metadata": {},
   "outputs": [
    {
     "name": "stdout",
     "output_type": "stream",
     "text": [
      "\"Downloading files...\"\n",
      "\"Unzipping files...\"\n",
      "\"Merging training data...\"\n"
     ]
    },
    {
     "name": "stderr",
     "output_type": "stream",
     "text": [
      "mv: cannot stat `C:\\\\Users\\\\dogeb\\\\Documents\\\\GitHub\\\\CSE450-Team\\\\Project_4\\\\Spencer_Work\\\\training1\\\\*': No such file or directory\n",
      "mv: cannot stat `C:\\\\Users\\\\dogeb\\\\Documents\\\\GitHub\\\\CSE450-Team\\\\Project_4\\\\Spencer_Work\\\\training2\\\\*': No such file or directory\n"
     ]
    },
    {
     "name": "stdout",
     "output_type": "stream",
     "text": [
      "\"Cleaning up...\"\n"
     ]
    },
    {
     "name": "stderr",
     "output_type": "stream",
     "text": [
      "The directory is not empty.\n",
      "The directory is not empty.\n"
     ]
    },
    {
     "name": "stdout",
     "output_type": "stream",
     "text": [
      "\"Data ready.\"\n"
     ]
    }
   ],
   "source": [
    "# Note: After you run this cell, the training and test data will be available in\n",
    "# the file browser. (Click the folder icon on the left to view it)\n",
    "#\n",
    "# If you don't see the data after the cell completes, click the refresh button\n",
    "# in the file browser (folder icon with circular arrow)\n",
    "\n",
    "# First, let's download and unzip the data\n",
    "#!echo \"Downloading files...\"\n",
    "#!wget -q https://github.com/byui-cse/cse450-course/raw/master/data/roadsigns/training1.zip\n",
    "#!wget -q https://github.com/byui-cse/cse450-course/raw/master/data/roadsigns/training2.zip\n",
    "#!wget -q https://github.com/byui-cse/cse450-course/raw/master/data/roadsigns/test.zip\n",
    "#!wget -q https://github.com/byui-cse/cse450-course/raw/master/data/roadsigns/test_partial.zip\n",
    "#!wget -q https://github.com/byui-cse/cse450-course/raw/master/data/roadsigns/test_classes_partial.csv\n",
    "\n",
    "#!echo \"Unzipping files...\"\n",
    "#!tar -xf C:\\Users\\dogeb\\Documents\\GitHub\\CSE450-Team\\Project_4\\Spencer_Work\\training1.zip\n",
    "#!tar -xf C:\\Users\\dogeb\\Documents\\GitHub\\CSE450-Team\\Project_4\\Spencer_Work\\training2.zip\n",
    "#!tar -xf C:\\Users\\dogeb\\Documents\\GitHub\\CSE450-Team\\Project_4\\Spencer_Work\\test.zip\n",
    "#!tar -xf C:\\Users\\dogeb\\Documents\\GitHub\\CSE450-Team\\Project_4\\Spencer_Work\\test_partial.zip\n",
    "\n",
    "# Combine the two traning directories\n",
    "#!echo \"Merging training data...\"\n",
    "#!mkdir C:\\Users\\dogeb\\Documents\\GitHub\\CSE450-Team\\Project_4\\Spencer_Work\\training\n",
    "#!mv C:\\Users\\dogeb\\Documents\\GitHub\\CSE450-Team\\Project_4\\Spencer_Work\\training1\\* C:\\Users\\dogeb\\Documents\\GitHub\\CSE450-Team\\Project_4\\Spencer_Work\\training\n",
    "#!mv C:\\Users\\dogeb\\Documents\\GitHub\\CSE450-Team\\Project_4\\Spencer_Work\\training2\\* C:\\Users\\dogeb\\Documents\\GitHub\\CSE450-Team\\Project_4\\Spencer_Work\\training\n",
    "\n",
    "# Cleanup\n",
    "#!echo \"Cleaning up...\"\n",
    "#!rmdir C:\\Users\\dogeb\\Documents\\GitHub\\CSE450-Team\\Project_4\\Spencer_Work\\training1\n",
    "#!rmdir C:\\Users\\dogeb\\Documents\\GitHub\\CSE450-Team\\Project_4\\Spencer_Work\\training2\n",
    "#!rm training1.zip\n",
    "#!rm training2.zip\n",
    "#!rm test.zip\n",
    "#!rm test_partial.zip\n",
    "\n",
    "#!echo \"Data ready.\""
   ]
  },
  {
   "cell_type": "code",
   "execution_count": 3,
   "metadata": {},
   "outputs": [],
   "source": [
    "training_dir = r'C:\\Users\\dogeb\\Documents\\GitHub\\CSE450-Team\\Project_4\\training'\n",
    "image_size = (100, 100)\n",
    "\n",
    "transform = ToTensor()\n",
    "\n",
    "train_dataset = ImageFolder(root=training_dir, transform=transform)\n",
    "\n",
    "train_dataloader = DataLoader(train_dataset, batch_size=32, shuffle=True)"
   ]
  },
  {
   "cell_type": "code",
   "execution_count": 4,
   "metadata": {},
   "outputs": [
    {
     "name": "stderr",
     "output_type": "stream",
     "text": [
      "C:\\Users\\dogeb\\AppData\\Local\\Packages\\PythonSoftwareFoundation.Python.3.11_qbz5n2kfra8p0\\LocalCache\\local-packages\\Python311\\site-packages\\torchvision\\models\\_utils.py:208: UserWarning: The parameter 'pretrained' is deprecated since 0.13 and may be removed in the future, please use 'weights' instead.\n",
      "  warnings.warn(\n",
      "C:\\Users\\dogeb\\AppData\\Local\\Packages\\PythonSoftwareFoundation.Python.3.11_qbz5n2kfra8p0\\LocalCache\\local-packages\\Python311\\site-packages\\torchvision\\models\\_utils.py:223: UserWarning: Arguments other than a weight enum or `None` for 'weights' are deprecated since 0.13 and may be removed in the future. The current behavior is equivalent to passing `weights=ResNeXt101_32X8D_Weights.IMAGENET1K_V1`. You can also use `weights=ResNeXt101_32X8D_Weights.DEFAULT` to get the most up-to-date weights.\n",
      "  warnings.warn(msg)\n"
     ]
    },
    {
     "name": "stdout",
     "output_type": "stream",
     "text": [
      "Epoch 1/10: Train Loss: 0.3728\n",
      "Epoch 2/10: Train Loss: 0.0618\n",
      "Epoch 3/10: Train Loss: 0.0482\n",
      "Epoch 4/10: Train Loss: 0.0308\n",
      "Epoch 5/10: Train Loss: 0.0289\n",
      "Epoch 6/10: Train Loss: 0.0254\n",
      "Epoch 7/10: Train Loss: 0.0185\n",
      "Epoch 8/10: Train Loss: 0.0183\n",
      "Epoch 9/10: Train Loss: 0.0082\n",
      "Epoch 10/10: Train Loss: 0.0143\n"
     ]
    }
   ],
   "source": [
    "class StreetSignClassifier(nn.Module):\n",
    "    def __init__(self, num_classes):\n",
    "        super(StreetSignClassifier, self).__init__()\n",
    "        self.resnext = resnext101_32x8d(pretrained=True)\n",
    "        num_filters = self.resnext.fc.in_features\n",
    "        self.resnext.fc = nn.Linear(num_filters, num_classes)\n",
    "    \n",
    "    def forward(self, x):\n",
    "        return self.resnext(x)\n",
    "\n",
    "model = StreetSignClassifier(num_classes=43)  # Assuming there are 42 sign classes\n",
    "\n",
    "criterion = nn.CrossEntropyLoss()\n",
    "optimizer = optim.Adam(model.parameters(), lr=0.001)\n",
    "\n",
    "num_epochs = 10\n",
    "device = torch.device(\"cuda\" if torch.cuda.is_available() else \"cpu\")\n",
    "model.to(device)\n",
    "\n",
    "for epoch in range(num_epochs):\n",
    "    model.train()\n",
    "    running_loss = 0.0\n",
    "    \n",
    "    for images, labels in train_dataloader:\n",
    "        images = images.to(device)\n",
    "        labels = labels.to(device)\n",
    "        \n",
    "        optimizer.zero_grad()\n",
    "        outputs = model(images)\n",
    "        loss = criterion(outputs, labels)\n",
    "        loss.backward()\n",
    "        optimizer.step()\n",
    "        \n",
    "        running_loss += loss.item()\n",
    "    \n",
    "    # Calculate average training loss for the epoch\n",
    "    train_loss = running_loss / len(train_dataloader)\n",
    "    \n",
    "    print(f\"Epoch {epoch+1}/{num_epochs}: Train Loss: {train_loss:.4f}\")"
   ]
  },
  {
   "cell_type": "code",
   "execution_count": 12,
   "metadata": {},
   "outputs": [],
   "source": [
    "import os\n",
    "from PIL import Image\n",
    "\n",
    "class CustomDataset(torch.utils.data.Dataset):\n",
    "    def __init__(self, csv_file, root_dir, transform=None):\n",
    "        self.data_frame = pd.read_csv(csv_file)\n",
    "        self.root_dir = root_dir\n",
    "        self.transform = transform\n",
    "\n",
    "    def __len__(self):\n",
    "        return len(self.data_frame)\n",
    "\n",
    "    def __getitem__(self, idx):\n",
    "        img_name = os.path.join(self.root_dir, self.data_frame.iloc[idx, 0])\n",
    "        image = Image.open(img_name)\n",
    "        \n",
    "        if self.transform:\n",
    "            image = self.transform(image)\n",
    "        \n",
    "        label = self.data_frame.iloc[idx, 1]\n",
    "        \n",
    "        return image, label\n",
    "\n",
    "# Define the validation dataset\n",
    "csv_file = r'C:\\Users\\dogeb\\Documents\\GitHub\\CSE450-Team\\Project_4\\Spencer_Work\\test_classes_partial.csv'\n",
    "validation_dir = r'C:\\Users\\dogeb\\Documents\\GitHub\\CSE450-Team\\Project_4\\test'\n",
    "transform = ToTensor()\n",
    "\n",
    "# Create the custom dataset\n",
    "validation_dataset = CustomDataset(csv_file, validation_dir, transform=transform)\n",
    "validation_dataloader = DataLoader(validation_dataset, batch_size=32, shuffle=False)\n",
    "\n",
    "# ... Rest of the code ...\n",
    "\n"
   ]
  },
  {
   "cell_type": "code",
   "execution_count": 14,
   "metadata": {},
   "outputs": [
    {
     "name": "stdout",
     "output_type": "stream",
     "text": [
      "Accuracy: 0.9602\n",
      "F1 Score: 0.9248\n"
     ]
    }
   ],
   "source": [
    "from sklearn.metrics import accuracy_score, f1_score\n",
    "import pandas as pd\n",
    "\n",
    "model.eval()  # Set the model to evaluation mode\n",
    "\n",
    "y_true = []\n",
    "y_pred = []\n",
    "\n",
    "with torch.no_grad():\n",
    "    for images, labels in validation_dataloader:\n",
    "        images = images.to(device)\n",
    "        labels = labels.to(device)\n",
    "\n",
    "        outputs = model(images)\n",
    "        _, predicted = torch.max(outputs, 1)\n",
    "\n",
    "        y_true.extend(labels.cpu().numpy())\n",
    "        y_pred.extend(predicted.cpu().numpy())\n",
    "\n",
    "# Calculate accuracy and F1 score\n",
    "accuracy = accuracy_score(y_true, y_pred)\n",
    "f1 = f1_score(y_true, y_pred, average='macro')\n",
    "\n",
    "print(f\"Accuracy: {accuracy:.4f}\")\n",
    "print(f\"F1 Score: {f1:.4f}\")"
   ]
  }
 ],
 "metadata": {
  "kernelspec": {
   "display_name": "Python 3",
   "language": "python",
   "name": "python3"
  },
  "language_info": {
   "codemirror_mode": {
    "name": "ipython",
    "version": 3
   },
   "file_extension": ".py",
   "mimetype": "text/x-python",
   "name": "python",
   "nbconvert_exporter": "python",
   "pygments_lexer": "ipython3",
   "version": "3.11.3"
  },
  "orig_nbformat": 4
 },
 "nbformat": 4,
 "nbformat_minor": 2
}
