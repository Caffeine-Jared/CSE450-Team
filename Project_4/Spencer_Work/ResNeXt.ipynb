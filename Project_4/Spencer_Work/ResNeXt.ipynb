{
 "cells": [
  {
   "cell_type": "code",
   "execution_count": 1,
   "metadata": {},
   "outputs": [],
   "source": [
    "import torch\n",
    "import torch.nn as nn\n",
    "import torch.optim as optim\n",
    "from torchvision.models import resnext101_32x8d"
   ]
  },
  {
   "cell_type": "code",
   "execution_count": 3,
   "metadata": {},
   "outputs": [
    {
     "name": "stdout",
     "output_type": "stream",
     "text": [
      "\"Downloading files...\"\n",
      "\"Unzipping files...\"\n",
      "\"Merging training data...\"\n"
     ]
    },
    {
     "name": "stderr",
     "output_type": "stream",
     "text": [
      "mv: cannot stat `C:\\\\Users\\\\dogeb\\\\Documents\\\\GitHub\\\\CSE450-Team\\\\Project_4\\\\Spencer_Work\\\\training1\\\\*': No such file or directory\n",
      "mv: cannot stat `C:\\\\Users\\\\dogeb\\\\Documents\\\\GitHub\\\\CSE450-Team\\\\Project_4\\\\Spencer_Work\\\\training2\\\\*': No such file or directory\n"
     ]
    },
    {
     "name": "stdout",
     "output_type": "stream",
     "text": [
      "\"Cleaning up...\"\n"
     ]
    },
    {
     "name": "stderr",
     "output_type": "stream",
     "text": [
      "The directory is not empty.\n",
      "The directory is not empty.\n"
     ]
    },
    {
     "name": "stdout",
     "output_type": "stream",
     "text": [
      "\"Data ready.\"\n"
     ]
    }
   ],
   "source": [
    "# Note: After you run this cell, the training and test data will be available in\n",
    "# the file browser. (Click the folder icon on the left to view it)\n",
    "#\n",
    "# If you don't see the data after the cell completes, click the refresh button\n",
    "# in the file browser (folder icon with circular arrow)\n",
    "\n",
    "# First, let's download and unzip the data\n",
    "#!echo \"Downloading files...\"\n",
    "#!wget -q https://github.com/byui-cse/cse450-course/raw/master/data/roadsigns/training1.zip\n",
    "#!wget -q https://github.com/byui-cse/cse450-course/raw/master/data/roadsigns/training2.zip\n",
    "#!wget -q https://github.com/byui-cse/cse450-course/raw/master/data/roadsigns/test.zip\n",
    "#!wget -q https://github.com/byui-cse/cse450-course/raw/master/data/roadsigns/test_partial.zip\n",
    "#!wget -q https://github.com/byui-cse/cse450-course/raw/master/data/roadsigns/test_classes_partial.csv\n",
    "\n",
    "#!echo \"Unzipping files...\"\n",
    "#!tar -xf C:\\Users\\dogeb\\Documents\\GitHub\\CSE450-Team\\Project_4\\Spencer_Work\\training1.zip\n",
    "#!tar -xf C:\\Users\\dogeb\\Documents\\GitHub\\CSE450-Team\\Project_4\\Spencer_Work\\training2.zip\n",
    "#!tar -xf C:\\Users\\dogeb\\Documents\\GitHub\\CSE450-Team\\Project_4\\Spencer_Work\\test.zip\n",
    "#!tar -xf C:\\Users\\dogeb\\Documents\\GitHub\\CSE450-Team\\Project_4\\Spencer_Work\\test_partial.zip\n",
    "\n",
    "# Combine the two traning directories\n",
    "#!echo \"Merging training data...\"\n",
    "#!mkdir C:\\Users\\dogeb\\Documents\\GitHub\\CSE450-Team\\Project_4\\Spencer_Work\\training\n",
    "#!mv C:\\Users\\dogeb\\Documents\\GitHub\\CSE450-Team\\Project_4\\Spencer_Work\\training1\\* C:\\Users\\dogeb\\Documents\\GitHub\\CSE450-Team\\Project_4\\Spencer_Work\\training\n",
    "#!mv C:\\Users\\dogeb\\Documents\\GitHub\\CSE450-Team\\Project_4\\Spencer_Work\\training2\\* C:\\Users\\dogeb\\Documents\\GitHub\\CSE450-Team\\Project_4\\Spencer_Work\\training\n",
    "\n",
    "# Cleanup\n",
    "#!echo \"Cleaning up...\"\n",
    "#!rmdir C:\\Users\\dogeb\\Documents\\GitHub\\CSE450-Team\\Project_4\\Spencer_Work\\training1\n",
    "#!rmdir C:\\Users\\dogeb\\Documents\\GitHub\\CSE450-Team\\Project_4\\Spencer_Work\\training2\n",
    "#!rm training1.zip\n",
    "#!rm training2.zip\n",
    "#!rm test.zip\n",
    "#!rm test_partial.zip\n",
    "\n",
    "#!echo \"Data ready.\""
   ]
  }
 ],
 "metadata": {
  "kernelspec": {
   "display_name": "Python 3",
   "language": "python",
   "name": "python3"
  },
  "language_info": {
   "codemirror_mode": {
    "name": "ipython",
    "version": 3
   },
   "file_extension": ".py",
   "mimetype": "text/x-python",
   "name": "python",
   "nbconvert_exporter": "python",
   "pygments_lexer": "ipython3",
   "version": "3.11.3"
  },
  "orig_nbformat": 4
 },
 "nbformat": 4,
 "nbformat_minor": 2
}
