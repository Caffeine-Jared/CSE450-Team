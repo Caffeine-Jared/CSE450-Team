{
 "cells": [
  {
   "attachments": {},
   "cell_type": "markdown",
   "metadata": {},
   "source": [
    "#   Imports and Set to GPU"
   ]
  },
  {
   "cell_type": "code",
   "execution_count": 48,
   "metadata": {},
   "outputs": [
    {
     "name": "stdout",
     "output_type": "stream",
     "text": [
      "set to GPU\n",
      "11.7\n"
     ]
    }
   ],
   "source": [
    "# Imports\n",
    "import torch\n",
    "import torch.nn as nn\n",
    "import torch.optim as optim\n",
    "from torchvision.models import resnext101_32x8d\n",
    "from torch.utils.data import DataLoader\n",
    "from torchvision.transforms import ToTensor\n",
    "from torchvision.datasets import ImageFolder\n",
    "from sklearn.model_selection import train_test_split\n",
    "from sklearn.metrics import accuracy_score, f1_score\n",
    "from torch.optim.lr_scheduler import StepLR\n",
    "from PIL import Image\n",
    "import pandas as pd\n",
    "import os\n",
    "import shutil\n",
    "\n",
    "device = torch.device(\"cuda\" if torch.cuda.is_available() else \"cpu\")\n",
    "\n",
    "# Set the CUDA device if available\n",
    "if torch.cuda.is_available():\n",
    "    torch.cuda.set_device(0)  # Set to the desired GPU device ID\n",
    "    print(\"set to GPU\")\n",
    "\n",
    "print(torch.version.cuda)"
   ]
  },
  {
   "cell_type": "code",
   "execution_count": 49,
   "metadata": {},
   "outputs": [
    {
     "name": "stdout",
     "output_type": "stream",
     "text": [
      "2.0.1+cu117\n"
     ]
    }
   ],
   "source": [
    "print(torch.__version__)"
   ]
  },
  {
   "attachments": {},
   "cell_type": "markdown",
   "metadata": {},
   "source": [
    "# Import Data and split into train/val/test"
   ]
  },
  {
   "cell_type": "code",
   "execution_count": 50,
   "metadata": {},
   "outputs": [],
   "source": [
    "# Note: After you run this cell, the training and test data will be available in\n",
    "# the file browser. (Click the folder icon on the left to view it)\n",
    "#\n",
    "# If you don't see the data after the cell completes, click the refresh button\n",
    "# in the file browser (folder icon with circular arrow)\n",
    "\n",
    "# First, let's download and unzip the data\n",
    "#!echo \"Downloading files...\"\n",
    "#!wget -q https://github.com/byui-cse/cse450-course/raw/master/data/roadsigns/training1.zip\n",
    "#!wget -q https://github.com/byui-cse/cse450-course/raw/master/data/roadsigns/training2.zip\n",
    "#!wget -q https://github.com/byui-cse/cse450-course/raw/master/data/roadsigns/test.zip\n",
    "#!wget -q https://github.com/byui-cse/cse450-course/raw/master/data/roadsigns/test_partial.zip\n",
    "#!wget -q https://github.com/byui-cse/cse450-course/raw/master/data/roadsigns/test_classes_partial.csv\n",
    "\n",
    "#!echo \"Unzipping files...\"\n",
    "#!tar -xf C:\\Users\\dogeb\\Documents\\GitHub\\CSE450-Team\\Project_4\\Spencer_Work\\training1.zip\n",
    "#!tar -xf C:\\Users\\dogeb\\Documents\\GitHub\\CSE450-Team\\Project_4\\Spencer_Work\\training2.zip\n",
    "#!tar -xf C:\\Users\\dogeb\\Documents\\GitHub\\CSE450-Team\\Project_4\\Spencer_Work\\test.zip\n",
    "#!tar -xf C:\\Users\\dogeb\\Documents\\GitHub\\CSE450-Team\\Project_4\\Spencer_Work\\test_partial.zip\n",
    "\n",
    "# Combine the two traning directories\n",
    "#!echo \"Merging training data...\"\n",
    "#!mkdir C:\\Users\\dogeb\\Documents\\GitHub\\CSE450-Team\\Project_4\\Spencer_Work\\training\n",
    "#!mv C:\\Users\\dogeb\\Documents\\GitHub\\CSE450-Team\\Project_4\\Spencer_Work\\training1\\* C:\\Users\\dogeb\\Documents\\GitHub\\CSE450-Team\\Project_4\\Spencer_Work\\training\n",
    "#!mv C:\\Users\\dogeb\\Documents\\GitHub\\CSE450-Team\\Project_4\\Spencer_Work\\training2\\* C:\\Users\\dogeb\\Documents\\GitHub\\CSE450-Team\\Project_4\\Spencer_Work\\training\n",
    "\n",
    "# Cleanup\n",
    "#!echo \"Cleaning up...\"\n",
    "#!rmdir C:\\Users\\dogeb\\Documents\\GitHub\\CSE450-Team\\Project_4\\Spencer_Work\\training1\n",
    "#!rmdir C:\\Users\\dogeb\\Documents\\GitHub\\CSE450-Team\\Project_4\\Spencer_Work\\training2\n",
    "#!rm training1.zip\n",
    "#!rm training2.zip\n",
    "#!rm test.zip\n",
    "#!rm test_partial.zip\n",
    "\n",
    "#!echo \"Data ready.\""
   ]
  },
  {
   "cell_type": "code",
   "execution_count": 51,
   "metadata": {},
   "outputs": [],
   "source": [
    "####################################### Spliting Folders #######################################\n",
    "\n",
    "#main_folder_path = r'C:\\Users\\dogeb\\Documents\\GitHub\\CSE450-Team\\Project_4\\training'\n",
    "\n",
    "# Get the list of subfolder names (1 - 42)\n",
    "#subfolders = [f.name for f in os.scandir(main_folder_path) if f.is_dir()]\n",
    "\n",
    "# Create empty lists to hold the file paths for train and test data\n",
    "#train_files = []\n",
    "#test_files = []\n",
    "#train_labels = []\n",
    "#test_labels = []\n",
    "\n",
    "# Iterate over each subfolder\n",
    "#for subfolder in subfolders:\n",
    "#    subfolder_path = os.path.join(main_folder_path, subfolder)\n",
    "#    \n",
    "    # Get the list of file names in the current subfolder\n",
    "#    file_names = [f.name for f in os.scandir(subfolder_path) if f.is_file()]\n",
    "    \n",
    "    # Create labels corresponding to the subfolder\n",
    "#    labels = [subfolder] * len(file_names)\n",
    "    \n",
    "    # Split the file names and labels into train and test sets\n",
    "#    train_files_subfolder, test_files_subfolder, train_labels_subfolder, test_labels_subfolder = \\\n",
    "#        train_test_split(file_names, labels, test_size=0.2, random_state=42)\n",
    "    \n",
    "    # Append the full file paths and labels to the respective train and test lists\n",
    "#    train_files += [os.path.join(subfolder_path, file_name) for file_name in train_files_subfolder]\n",
    "#    test_files += [os.path.join(subfolder_path, file_name) for file_name in test_files_subfolder]\n",
    "#    train_labels += train_labels_subfolder\n",
    "#    test_labels += test_labels_subfolder\n",
    "\n",
    "# Create train and test directories to store the split files\n",
    "#train_dir = r'C:\\Users\\dogeb\\Documents\\GitHub\\CSE450-Team\\Project_4\\train'\n",
    "#test_dir = r'C:\\Users\\dogeb\\Documents\\GitHub\\CSE450-Team\\Project_4\\val'\n",
    "\n",
    "#os.makedirs(train_dir, exist_ok=True)\n",
    "#os.makedirs(test_dir, exist_ok=True)\n",
    "\n",
    "\n",
    "# Copy the train files to the train directory\n",
    "#for train_file, train_label in zip(train_files, train_labels):\n",
    "#    label_dir = os.path.join(train_dir, train_label)\n",
    "#    os.makedirs(label_dir, exist_ok=True)\n",
    "#    shutil.copy2(train_file, label_dir)\n",
    "\n",
    "# Copy the test files to the test directory\n",
    "#for test_file, test_label in zip(test_files, test_labels):\n",
    "#    label_dir = os.path.join(test_dir, test_label)\n",
    "#    os.makedirs(label_dir, exist_ok=True)\n",
    "#    shutil.copy2(test_file, label_dir)"
   ]
  },
  {
   "cell_type": "code",
   "execution_count": 52,
   "metadata": {},
   "outputs": [],
   "source": [
    "####################################### Train Val Split #######################################\n",
    "\n",
    "# Set the training directory to the training photos\n",
    "training_dir = r'C:\\Users\\dogeb\\Documents\\GitHub\\CSE450-Team\\Project_4\\train'\n",
    "val_dir = r'C:\\Users\\dogeb\\Documents\\GitHub\\CSE450-Team\\Project_4\\val'\n",
    "\n",
    "transform = ToTensor()\n",
    "\n",
    "train_dataset = ImageFolder(root=training_dir, transform=transform)\n",
    "val_dataset = ImageFolder(root=val_dir, transform=transform)\n",
    "\n",
    "train_dataloader = DataLoader(train_dataset, batch_size=32, shuffle=True)\n",
    "val_dataloader = DataLoader(val_dataset)"
   ]
  },
  {
   "cell_type": "code",
   "execution_count": 53,
   "metadata": {},
   "outputs": [
    {
     "name": "stdout",
     "output_type": "stream",
     "text": [
      "Dataset ImageFolder\n",
      "    Number of datapoints: 31367\n",
      "    Root location: C:\\Users\\dogeb\\Documents\\GitHub\\CSE450-Team\\Project_4\\train\n",
      "    StandardTransform\n",
      "Transform: ToTensor()\n"
     ]
    }
   ],
   "source": [
    "print (train_dataset)"
   ]
  },
  {
   "attachments": {},
   "cell_type": "markdown",
   "metadata": {},
   "source": [
    "# Train the Model"
   ]
  },
  {
   "cell_type": "code",
   "execution_count": 54,
   "metadata": {},
   "outputs": [
    {
     "name": "stderr",
     "output_type": "stream",
     "text": [
      "C:\\Users\\dogeb\\AppData\\Local\\Packages\\PythonSoftwareFoundation.Python.3.11_qbz5n2kfra8p0\\LocalCache\\local-packages\\Python311\\site-packages\\torchvision\\models\\_utils.py:208: UserWarning: The parameter 'pretrained' is deprecated since 0.13 and may be removed in the future, please use 'weights' instead.\n",
      "  warnings.warn(\n",
      "C:\\Users\\dogeb\\AppData\\Local\\Packages\\PythonSoftwareFoundation.Python.3.11_qbz5n2kfra8p0\\LocalCache\\local-packages\\Python311\\site-packages\\torchvision\\models\\_utils.py:223: UserWarning: Arguments other than a weight enum or `None` for 'weights' are deprecated since 0.13 and may be removed in the future. The current behavior is equivalent to passing `weights=ResNeXt101_32X8D_Weights.IMAGENET1K_V1`. You can also use `weights=ResNeXt101_32X8D_Weights.DEFAULT` to get the most up-to-date weights.\n",
      "  warnings.warn(msg)\n"
     ]
    },
    {
     "name": "stdout",
     "output_type": "stream",
     "text": [
      "Epoch 1/10: Train Loss: 2.5119 Train Accuracy: 0.6486 Train F1 Score: 0.5491 Val Accuracy: 0.6446 Val F1 Score: 0.5436 Learning Rate: 0.01\n",
      "Epoch 2/10: Train Loss: 0.4868 Train Accuracy: 0.9291 Train F1 Score: 0.9098 Val Accuracy: 0.9208 Val F1 Score: 0.9008 Learning Rate: 0.01\n",
      "Epoch 3/10: Train Loss: 0.2157 Train Accuracy: 0.9430 Train F1 Score: 0.9370 Val Accuracy: 0.9368 Val F1 Score: 0.9268 Learning Rate: 0.01\n",
      "Epoch 4/10: Train Loss: 0.0620 Train Accuracy: 0.9930 Train F1 Score: 0.9926 Val Accuracy: 0.9839 Val F1 Score: 0.9830 Learning Rate: 0.001\n",
      "Epoch 5/10: Train Loss: 0.0361 Train Accuracy: 0.9964 Train F1 Score: 0.9958 Val Accuracy: 0.9876 Val F1 Score: 0.9847 Learning Rate: 0.001\n",
      "Epoch 6/10: Train Loss: 0.0232 Train Accuracy: 0.9982 Train F1 Score: 0.9980 Val Accuracy: 0.9866 Val F1 Score: 0.9855 Learning Rate: 0.001\n",
      "Epoch 7/10: Train Loss: 0.0131 Train Accuracy: 0.9991 Train F1 Score: 0.9989 Val Accuracy: 0.9892 Val F1 Score: 0.9886 Learning Rate: 0.0001\n",
      "Epoch 8/10: Train Loss: 0.0102 Train Accuracy: 0.9992 Train F1 Score: 0.9990 Val Accuracy: 0.9892 Val F1 Score: 0.9877 Learning Rate: 0.0001\n",
      "Epoch 9/10: Train Loss: 0.0090 Train Accuracy: 0.9995 Train F1 Score: 0.9995 Val Accuracy: 0.9903 Val F1 Score: 0.9891 Learning Rate: 0.0001\n",
      "Epoch 10/10: Train Loss: 0.0077 Train Accuracy: 0.9996 Train F1 Score: 0.9995 Val Accuracy: 0.9899 Val F1 Score: 0.9887 Learning Rate: 1e-05\n"
     ]
    }
   ],
   "source": [
    "# Use the pretrained model but add the last layer to our target classes\n",
    "class StreetSignClassifier(nn.Module):\n",
    "    def __init__(self, num_classes):\n",
    "        super(StreetSignClassifier, self).__init__()\n",
    "        self.resnext = resnext101_32x8d(pretrained=True)\n",
    "        num_filters = self.resnext.fc.in_features\n",
    "        self.resnext.fc = nn.Linear(num_filters, num_classes)\n",
    "    \n",
    "    def forward(self, x):\n",
    "        return self.resnext(x)\n",
    "\n",
    "# Initialize the new model\n",
    "model = StreetSignClassifier(num_classes=43)  # Assuming there are 42 sign classes\n",
    "train_accuracy_list = []\n",
    "val_accuracy_list = []\n",
    "\n",
    "# Set Loss and Optimizer\n",
    "criterion = nn.CrossEntropyLoss()\n",
    "optimizer = optim.Adam(model.parameters(), lr=0.01)\n",
    "scheduler = StepLR(optimizer, step_size=3, gamma=0.1)\n",
    "\n",
    "# Train Model\n",
    "num_epochs = 10\n",
    "device = torch.device(\"cuda\" if torch.cuda.is_available() else \"cpu\")\n",
    "model.to(device)\n",
    "\n",
    "for epoch in range(num_epochs):\n",
    "    model.train()\n",
    "    running_loss = 0.0\n",
    "    \n",
    "    for images, labels in train_dataloader:\n",
    "        images = images.to(device)\n",
    "        labels = labels.to(device)\n",
    "        \n",
    "        optimizer.zero_grad()\n",
    "        outputs = model(images)\n",
    "        loss = criterion(outputs, labels)\n",
    "        loss.backward()\n",
    "        optimizer.step()\n",
    "        \n",
    "        running_loss += loss.item()\n",
    "    \n",
    "    # Calculate average training loss for the epoch\n",
    "    train_loss = running_loss / len(train_dataloader)\n",
    "\n",
    "    model.eval()  # Set the model to evaluation mode\n",
    "    y_true = []\n",
    "    y_pred = []\n",
    "\n",
    "    with torch.no_grad():\n",
    "        for images, labels in train_dataloader:\n",
    "            images = images.to(device)\n",
    "            labels = labels.to(device)\n",
    "\n",
    "            outputs = model(images)\n",
    "            _, predicted = torch.max(outputs, 1)\n",
    "\n",
    "            y_true.extend(labels.cpu().numpy())\n",
    "            y_pred.extend(predicted.cpu().numpy())\n",
    "\n",
    "    train_accuracy = accuracy_score(y_true, y_pred)\n",
    "    train_f1 = f1_score(y_true, y_pred, average='macro')\n",
    "    train_accuracy_list.append(train_accuracy)\n",
    "\n",
    "\n",
    "    y_true = []\n",
    "    y_pred = []\n",
    "\n",
    "    with torch.no_grad():\n",
    "        for images, labels in val_dataloader:\n",
    "            images = images.to(device)\n",
    "            labels = labels.to(device)\n",
    "\n",
    "            outputs = model(images)\n",
    "            _, predicted = torch.max(outputs, 1)\n",
    "\n",
    "            y_true.extend(labels.cpu().numpy())\n",
    "            y_pred.extend(predicted.cpu().numpy())\n",
    "\n",
    "    # Calculate accuracy and F1 score\n",
    "    val_accuracy = accuracy_score(y_true, y_pred)\n",
    "    val_f1 = f1_score(y_true, y_pred, average='macro')\n",
    "    val_accuracy_list.append(val_accuracy)\n",
    "    current_lr = optimizer.param_groups[0]['lr'] \n",
    "    scheduler.step()  # Update the learning rate\n",
    "        \n",
    "    print(f\"Epoch {epoch+1}/{num_epochs}: Train Loss: {train_loss:.4f} Train Accuracy: {train_accuracy:.4f} Train F1 Score: {train_f1:.4f} Val Accuracy: {val_accuracy:.4f} Val F1 Score: {val_f1:.4f} Learning Rate: {current_lr}\")\n",
    "    "
   ]
  },
  {
   "attachments": {},
   "cell_type": "markdown",
   "metadata": {},
   "source": [
    "# Validate Model"
   ]
  },
  {
   "cell_type": "code",
   "execution_count": 55,
   "metadata": {},
   "outputs": [],
   "source": [
    "#model.eval()  # Set the model to evaluation mode\n",
    "\n",
    "#y_true = []\n",
    "#y_pred = []\n",
    "\n",
    "#with torch.no_grad():\n",
    "#    for images, labels in val_dataloader:\n",
    "#        images = images.to(device)\n",
    "#        labels = labels.to(device)\n",
    "\n",
    "#        outputs = model(images)\n",
    "#        _, predicted = torch.max(outputs, 1)\n",
    "\n",
    "#        y_true.extend(labels.cpu().numpy())\n",
    "#        y_pred.extend(predicted.cpu().numpy())\n",
    "\n",
    "# Calculate accuracy and F1 score\n",
    "#accuracy = accuracy_score(y_true, y_pred)\n",
    "#f1 = f1_score(y_true, y_pred, average='macro')\n",
    "\n",
    "#print(f\"Accuracy: {accuracy:.4f}\")\n",
    "#print(f\"F1 Score: {f1:.4f}\")"
   ]
  },
  {
   "attachments": {},
   "cell_type": "markdown",
   "metadata": {},
   "source": [
    "# Test Model"
   ]
  },
  {
   "cell_type": "code",
   "execution_count": 56,
   "metadata": {},
   "outputs": [],
   "source": [
    "class TestDataset(torch.utils.data.Dataset):\n",
    "    def __init__(self, csv_file, root_dir, transform=None):\n",
    "        self.data_frame = pd.read_csv(csv_file)\n",
    "        self.root_dir = root_dir\n",
    "        self.transform = transform\n",
    "\n",
    "    def __len__(self):\n",
    "        return len(self.data_frame)\n",
    "\n",
    "    def __getitem__(self, idx):\n",
    "        img_name = os.path.join(self.root_dir, self.data_frame.iloc[idx, 0])\n",
    "        image = Image.open(img_name)\n",
    "        \n",
    "        if self.transform:\n",
    "            image = self.transform(image)\n",
    "        \n",
    "        label = self.data_frame.iloc[idx, 1]\n",
    "        \n",
    "        return image, label\n",
    "\n",
    "# Define the test dataset\n",
    "csv_file = r'C:\\Users\\dogeb\\Documents\\GitHub\\CSE450-Team\\Project_4\\Spencer_Work\\test_classes_partial.csv'\n",
    "test_dir = r'C:\\Users\\dogeb\\Documents\\GitHub\\CSE450-Team\\Project_4\\test_partial'\n",
    "transform = ToTensor()\n",
    "\n",
    "# Create the custom dataset\n",
    "test_dataset = TestDataset(csv_file, test_dir, transform=transform)\n",
    "test_dataloader = DataLoader(test_dataset, shuffle=False)\n",
    "\n",
    "# ... Rest of the code ...\n",
    "\n"
   ]
  },
  {
   "attachments": {},
   "cell_type": "markdown",
   "metadata": {},
   "source": [
    "# Metrics"
   ]
  },
  {
   "cell_type": "code",
   "execution_count": 57,
   "metadata": {},
   "outputs": [
    {
     "name": "stdout",
     "output_type": "stream",
     "text": [
      "Accuracy: 0.9502\n",
      "F1 Score: 0.9255\n",
      "[16, 1, 38, 33, 11, 38, 18, 12, 25, 35, 12, 7, 23, 7, 4, 9, 21, 20, 27, 38, 4, 33, 9, 3, 1, 11, 13, 10, 9, 11, 5, 17, 34, 23, 2, 17, 3, 12, 16, 8, 7, 30, 18, 12, 24, 25, 3, 10, 18, 1, 7, 13, 15, 9, 13, 35, 5, 26, 9, 16, 38, 10, 4, 9, 15, 9, 26, 2, 5, 28, 11, 25, 30, 33, 5, 12, 1, 10, 25, 21, 21, 33, 25, 7, 10, 35, 3, 7, 22, 13, 3, 1, 2, 14, 12, 32, 3, 38, 9, 33, 1, 10, 5, 11, 33, 4, 35, 25, 33, 4, 1, 14, 16, 10, 23, 3, 27, 29, 1, 17, 13, 7, 1, 8, 2, 10, 10, 31, 1, 6, 36, 3, 14, 13, 11, 10, 18, 40, 2, 38, 41, 4, 6, 18, 17, 25, 2, 9, 11, 21, 7, 24, 11, 25, 17, 3, 6, 9, 7, 4, 13, 16, 4, 27, 18, 9, 13, 14, 29, 17, 13, 38, 26, 25, 33, 1, 3, 40, 13, 2, 8, 4, 36, 25, 20, 25, 18, 1, 10, 8, 10, 29, 12, 38, 31, 2, 8, 40, 24, 28, 17]\n",
      "[16, 1, 38, 33, 11, 38, 18, 12, 25, 35, 12, 7, 23, 7, 4, 9, 21, 20, 27, 38, 4, 33, 9, 3, 1, 11, 13, 10, 9, 11, 5, 17, 34, 23, 2, 17, 3, 12, 16, 8, 7, 30, 18, 12, 24, 25, 3, 10, 18, 8, 25, 13, 15, 9, 13, 35, 5, 26, 9, 16, 38, 10, 4, 9, 15, 9, 26, 2, 5, 28, 11, 25, 30, 34, 5, 12, 1, 10, 25, 25, 21, 33, 25, 7, 10, 35, 3, 7, 22, 13, 3, 1, 2, 14, 12, 32, 3, 38, 9, 33, 1, 10, 5, 11, 33, 4, 35, 25, 33, 4, 1, 14, 16, 10, 30, 3, 27, 29, 1, 17, 13, 7, 1, 8, 2, 10, 10, 30, 1, 6, 36, 3, 14, 13, 11, 10, 18, 40, 2, 38, 41, 4, 6, 18, 17, 25, 2, 41, 11, 21, 7, 24, 11, 25, 17, 3, 6, 9, 7, 4, 13, 16, 4, 25, 18, 9, 13, 14, 29, 17, 13, 38, 26, 25, 33, 1, 3, 40, 13, 2, 8, 4, 36, 25, 20, 25, 18, 1, 10, 8, 10, 29, 12, 38, 31, 2, 8, 38, 18, 28, 17]\n"
     ]
    }
   ],
   "source": [
    "\n",
    "\n",
    "y_true = []\n",
    "y_pred = []\n",
    "\n",
    "with torch.no_grad():\n",
    "    for images, labels in test_dataloader:\n",
    "        images = images.to(device)\n",
    "        labels = labels.to(device)\n",
    "\n",
    "        outputs = model(images)\n",
    "        _, predicted = torch.max(outputs, 1)\n",
    "\n",
    "        y_true.extend(labels.cpu().numpy())\n",
    "        y_pred.extend(predicted.cpu().numpy())\n",
    "\n",
    "# Calculate accuracy and F1 score\n",
    "accuracy = accuracy_score(y_true, y_pred)\n",
    "f1 = f1_score(y_true, y_pred, average='macro')\n",
    "\n",
    "print(f\"Accuracy: {accuracy:.4f}\")\n",
    "print(f\"F1 Score: {f1:.4f}\")\n",
    "\n",
    "print(y_pred)\n",
    "print(y_true)"
   ]
  }
 ],
 "metadata": {
  "kernelspec": {
   "display_name": "Python 3",
   "language": "python",
   "name": "python3"
  },
  "language_info": {
   "codemirror_mode": {
    "name": "ipython",
    "version": 3
   },
   "file_extension": ".py",
   "mimetype": "text/x-python",
   "name": "python",
   "nbconvert_exporter": "python",
   "pygments_lexer": "ipython3",
   "version": "3.11.3"
  },
  "orig_nbformat": 4
 },
 "nbformat": 4,
 "nbformat_minor": 2
}
