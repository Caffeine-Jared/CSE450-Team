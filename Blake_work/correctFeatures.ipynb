{
 "cells": [
  {
   "cell_type": "code",
   "execution_count": 1,
   "metadata": {},
   "outputs": [
    {
     "ename": "NotFittedError",
     "evalue": "This RandomForestClassifier instance is not fitted yet. Call 'fit' with appropriate arguments before using this estimator.",
     "output_type": "error",
     "traceback": [
      "\u001b[1;31m---------------------------------------------------------------------------\u001b[0m",
      "\u001b[1;31mNotFittedError\u001b[0m                            Traceback (most recent call last)",
      "\u001b[1;32mc:\\Users\\Blake Dennett\\Downloads\\Spring2023\\machineLearning\\team_04\\CSE450-Team\\Blake_work\\correctFeatures.ipynb Cell 1\u001b[0m in \u001b[0;36m2\n\u001b[0;32m     <a href='vscode-notebook-cell:/c%3A/Users/Blake%20Dennett/Downloads/Spring2023/machineLearning/team_04/CSE450-Team/Blake_work/correctFeatures.ipynb#W0sZmlsZQ%3D%3D?line=19'>20</a>\u001b[0m y \u001b[39m=\u001b[39m pd\u001b[39m.\u001b[39mget_dummies(y)\n\u001b[0;32m     <a href='vscode-notebook-cell:/c%3A/Users/Blake%20Dennett/Downloads/Spring2023/machineLearning/team_04/CSE450-Team/Blake_work/correctFeatures.ipynb#W0sZmlsZQ%3D%3D?line=21'>22</a>\u001b[0m x_train, x_test, y_train, y_test \u001b[39m=\u001b[39m train_test_split(X, y, test_size \u001b[39m=\u001b[39m \u001b[39m.008\u001b[39m, random_state \u001b[39m=\u001b[39m \u001b[39m190\u001b[39m)\n\u001b[1;32m---> <a href='vscode-notebook-cell:/c%3A/Users/Blake%20Dennett/Downloads/Spring2023/machineLearning/team_04/CSE450-Team/Blake_work/correctFeatures.ipynb#W0sZmlsZQ%3D%3D?line=23'>24</a>\u001b[0m feature_df \u001b[39m=\u001b[39m pd\u001b[39m.\u001b[39mDataFrame({\u001b[39m'\u001b[39m\u001b[39mfeatures\u001b[39m\u001b[39m'\u001b[39m:X\u001b[39m.\u001b[39mcolumns, \u001b[39m'\u001b[39m\u001b[39mimportance\u001b[39m\u001b[39m'\u001b[39m:classifier\u001b[39m.\u001b[39;49mfeature_importances_})\n\u001b[0;32m     <a href='vscode-notebook-cell:/c%3A/Users/Blake%20Dennett/Downloads/Spring2023/machineLearning/team_04/CSE450-Team/Blake_work/correctFeatures.ipynb#W0sZmlsZQ%3D%3D?line=26'>27</a>\u001b[0m key_features_chart \u001b[39m=\u001b[39m (alt\u001b[39m.\u001b[39mChart(feature_df)\u001b[39m.\u001b[39mencode(\n\u001b[0;32m     <a href='vscode-notebook-cell:/c%3A/Users/Blake%20Dennett/Downloads/Spring2023/machineLearning/team_04/CSE450-Team/Blake_work/correctFeatures.ipynb#W0sZmlsZQ%3D%3D?line=27'>28</a>\u001b[0m    x\u001b[39m=\u001b[39m alt\u001b[39m.\u001b[39mX(\u001b[39m\"\u001b[39m\u001b[39mfeatures\u001b[39m\u001b[39m\"\u001b[39m, title \u001b[39m=\u001b[39m \u001b[39m\"\u001b[39m\u001b[39mFeatures\u001b[39m\u001b[39m\"\u001b[39m, sort\u001b[39m=\u001b[39m\u001b[39m'\u001b[39m\u001b[39m-y\u001b[39m\u001b[39m'\u001b[39m),\n\u001b[0;32m     <a href='vscode-notebook-cell:/c%3A/Users/Blake%20Dennett/Downloads/Spring2023/machineLearning/team_04/CSE450-Team/Blake_work/correctFeatures.ipynb#W0sZmlsZQ%3D%3D?line=28'>29</a>\u001b[0m    y\u001b[39m=\u001b[39m  alt\u001b[39m.\u001b[39mY(\u001b[39m\"\u001b[39m\u001b[39mimportance\u001b[39m\u001b[39m\"\u001b[39m, title \u001b[39m=\u001b[39m \u001b[39m\"\u001b[39m\u001b[39mImportance\u001b[39m\u001b[39m\"\u001b[39m)\n\u001b[0;32m     <a href='vscode-notebook-cell:/c%3A/Users/Blake%20Dennett/Downloads/Spring2023/machineLearning/team_04/CSE450-Team/Blake_work/correctFeatures.ipynb#W0sZmlsZQ%3D%3D?line=29'>30</a>\u001b[0m )\u001b[39m.\u001b[39mproperties(width\u001b[39m=\u001b[39m\u001b[39m600\u001b[39m,title\u001b[39m=\u001b[39m\u001b[39m\"\u001b[39m\u001b[39mHome features by importance\u001b[39m\u001b[39m\"\u001b[39m)\n\u001b[0;32m     <a href='vscode-notebook-cell:/c%3A/Users/Blake%20Dennett/Downloads/Spring2023/machineLearning/team_04/CSE450-Team/Blake_work/correctFeatures.ipynb#W0sZmlsZQ%3D%3D?line=30'>31</a>\u001b[0m \u001b[39m.\u001b[39mmark_bar()\n\u001b[0;32m     <a href='vscode-notebook-cell:/c%3A/Users/Blake%20Dennett/Downloads/Spring2023/machineLearning/team_04/CSE450-Team/Blake_work/correctFeatures.ipynb#W0sZmlsZQ%3D%3D?line=31'>32</a>\u001b[0m )\n\u001b[0;32m     <a href='vscode-notebook-cell:/c%3A/Users/Blake%20Dennett/Downloads/Spring2023/machineLearning/team_04/CSE450-Team/Blake_work/correctFeatures.ipynb#W0sZmlsZQ%3D%3D?line=32'>33</a>\u001b[0m key_features_chart\n",
      "File \u001b[1;32mc:\\Users\\Blake Dennett\\AppData\\Local\\Programs\\Python\\Python310\\lib\\site-packages\\sklearn\\ensemble\\_forest.py:631\u001b[0m, in \u001b[0;36mBaseForest.feature_importances_\u001b[1;34m(self)\u001b[0m\n\u001b[0;32m    610\u001b[0m \u001b[39m@property\u001b[39m\n\u001b[0;32m    611\u001b[0m \u001b[39mdef\u001b[39;00m \u001b[39mfeature_importances_\u001b[39m(\u001b[39mself\u001b[39m):\n\u001b[0;32m    612\u001b[0m     \u001b[39m\"\"\"\u001b[39;00m\n\u001b[0;32m    613\u001b[0m \u001b[39m    The impurity-based feature importances.\u001b[39;00m\n\u001b[0;32m    614\u001b[0m \n\u001b[1;32m   (...)\u001b[0m\n\u001b[0;32m    629\u001b[0m \u001b[39m        array of zeros.\u001b[39;00m\n\u001b[0;32m    630\u001b[0m \u001b[39m    \"\"\"\u001b[39;00m\n\u001b[1;32m--> 631\u001b[0m     check_is_fitted(\u001b[39mself\u001b[39;49m)\n\u001b[0;32m    633\u001b[0m     all_importances \u001b[39m=\u001b[39m Parallel(n_jobs\u001b[39m=\u001b[39m\u001b[39mself\u001b[39m\u001b[39m.\u001b[39mn_jobs, prefer\u001b[39m=\u001b[39m\u001b[39m\"\u001b[39m\u001b[39mthreads\u001b[39m\u001b[39m\"\u001b[39m)(\n\u001b[0;32m    634\u001b[0m         delayed(\u001b[39mgetattr\u001b[39m)(tree, \u001b[39m\"\u001b[39m\u001b[39mfeature_importances_\u001b[39m\u001b[39m\"\u001b[39m)\n\u001b[0;32m    635\u001b[0m         \u001b[39mfor\u001b[39;00m tree \u001b[39min\u001b[39;00m \u001b[39mself\u001b[39m\u001b[39m.\u001b[39mestimators_\n\u001b[0;32m    636\u001b[0m         \u001b[39mif\u001b[39;00m tree\u001b[39m.\u001b[39mtree_\u001b[39m.\u001b[39mnode_count \u001b[39m>\u001b[39m \u001b[39m1\u001b[39m\n\u001b[0;32m    637\u001b[0m     )\n\u001b[0;32m    639\u001b[0m     \u001b[39mif\u001b[39;00m \u001b[39mnot\u001b[39;00m all_importances:\n",
      "File \u001b[1;32mc:\\Users\\Blake Dennett\\AppData\\Local\\Programs\\Python\\Python310\\lib\\site-packages\\sklearn\\utils\\validation.py:1345\u001b[0m, in \u001b[0;36mcheck_is_fitted\u001b[1;34m(estimator, attributes, msg, all_or_any)\u001b[0m\n\u001b[0;32m   1340\u001b[0m     fitted \u001b[39m=\u001b[39m [\n\u001b[0;32m   1341\u001b[0m         v \u001b[39mfor\u001b[39;00m v \u001b[39min\u001b[39;00m \u001b[39mvars\u001b[39m(estimator) \u001b[39mif\u001b[39;00m v\u001b[39m.\u001b[39mendswith(\u001b[39m\"\u001b[39m\u001b[39m_\u001b[39m\u001b[39m\"\u001b[39m) \u001b[39mand\u001b[39;00m \u001b[39mnot\u001b[39;00m v\u001b[39m.\u001b[39mstartswith(\u001b[39m\"\u001b[39m\u001b[39m__\u001b[39m\u001b[39m\"\u001b[39m)\n\u001b[0;32m   1342\u001b[0m     ]\n\u001b[0;32m   1344\u001b[0m \u001b[39mif\u001b[39;00m \u001b[39mnot\u001b[39;00m fitted:\n\u001b[1;32m-> 1345\u001b[0m     \u001b[39mraise\u001b[39;00m NotFittedError(msg \u001b[39m%\u001b[39m {\u001b[39m\"\u001b[39m\u001b[39mname\u001b[39m\u001b[39m\"\u001b[39m: \u001b[39mtype\u001b[39m(estimator)\u001b[39m.\u001b[39m\u001b[39m__name__\u001b[39m})\n",
      "\u001b[1;31mNotFittedError\u001b[0m: This RandomForestClassifier instance is not fitted yet. Call 'fit' with appropriate arguments before using this estimator."
     ]
    }
   ],
   "source": [
    "from sklearn.ensemble import RandomForestClassifier\n",
    "import altair as alt\n",
    "from sklearn.model_selection import train_test_split\n",
    "\n",
    "\n",
    "url = 'https://raw.githubusercontent.com/byui-cse/cse450-course/master/data/bank.csv'\n",
    "\n",
    "import pandas as pd\n",
    "\n",
    "dat = pd.read_csv(url)\n",
    "\n",
    "classifier = RandomForestClassifier(max_depth=12)\n",
    "\n",
    "X = dat\n",
    "y = dat['y']\n",
    "\n",
    "\n",
    "# print(X.head())\n",
    "X = pd.get_dummies(X)\n",
    "y = pd.get_dummies(y)\n",
    "\n",
    "x_train, x_test, y_train, y_test = train_test_split(X, y, test_size = .008, random_state = 190)\n",
    "\n",
    "classifier.fit(x_train, y_train)\n",
    "\n",
    "feature_df = pd.DataFrame({'features':X.columns, 'importance':classifier.feature_importances_})\n",
    "\n",
    "\n",
    "key_features_chart = (alt.Chart(feature_df).encode(\n",
    "   x= alt.X(\"features\", title = \"Features\", sort='-y'),\n",
    "   y=  alt.Y(\"importance\", title = \"Importance\")\n",
    ").properties(width=600,title=\"Home features by importance\")\n",
    ".mark_bar()\n",
    ")\n",
    "key_features_chart"
   ]
  }
 ],
 "metadata": {
  "kernelspec": {
   "display_name": "Python 3",
   "language": "python",
   "name": "python3"
  },
  "language_info": {
   "codemirror_mode": {
    "name": "ipython",
    "version": 3
   },
   "file_extension": ".py",
   "mimetype": "text/x-python",
   "name": "python",
   "nbconvert_exporter": "python",
   "pygments_lexer": "ipython3",
   "version": "3.10.8"
  },
  "orig_nbformat": 4
 },
 "nbformat": 4,
 "nbformat_minor": 2
}
