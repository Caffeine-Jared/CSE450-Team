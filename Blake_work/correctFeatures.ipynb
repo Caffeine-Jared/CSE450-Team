{
 "cells": [
  {
   "cell_type": "code",
   "execution_count": 2,
   "metadata": {},
   "outputs": [
    {
     "name": "stderr",
     "output_type": "stream",
     "text": [
      "c:\\Users\\Blake Dennett\\AppData\\Local\\Programs\\Python\\Python310\\lib\\site-packages\\altair\\utils\\core.py:317: FutureWarning: iteritems is deprecated and will be removed in a future version. Use .items instead.\n",
      "  for col_name, dtype in df.dtypes.iteritems():\n"
     ]
    },
    {
     "data": {
      "text/html": [
       "\n",
       "<div id=\"altair-viz-55af674426a14d7eb332c60ee576325e\"></div>\n",
       "<script type=\"text/javascript\">\n",
       "  var VEGA_DEBUG = (typeof VEGA_DEBUG == \"undefined\") ? {} : VEGA_DEBUG;\n",
       "  (function(spec, embedOpt){\n",
       "    let outputDiv = document.currentScript.previousElementSibling;\n",
       "    if (outputDiv.id !== \"altair-viz-55af674426a14d7eb332c60ee576325e\") {\n",
       "      outputDiv = document.getElementById(\"altair-viz-55af674426a14d7eb332c60ee576325e\");\n",
       "    }\n",
       "    const paths = {\n",
       "      \"vega\": \"https://cdn.jsdelivr.net/npm//vega@5?noext\",\n",
       "      \"vega-lib\": \"https://cdn.jsdelivr.net/npm//vega-lib?noext\",\n",
       "      \"vega-lite\": \"https://cdn.jsdelivr.net/npm//vega-lite@4.17.0?noext\",\n",
       "      \"vega-embed\": \"https://cdn.jsdelivr.net/npm//vega-embed@6?noext\",\n",
       "    };\n",
       "\n",
       "    function maybeLoadScript(lib, version) {\n",
       "      var key = `${lib.replace(\"-\", \"\")}_version`;\n",
       "      return (VEGA_DEBUG[key] == version) ?\n",
       "        Promise.resolve(paths[lib]) :\n",
       "        new Promise(function(resolve, reject) {\n",
       "          var s = document.createElement('script');\n",
       "          document.getElementsByTagName(\"head\")[0].appendChild(s);\n",
       "          s.async = true;\n",
       "          s.onload = () => {\n",
       "            VEGA_DEBUG[key] = version;\n",
       "            return resolve(paths[lib]);\n",
       "          };\n",
       "          s.onerror = () => reject(`Error loading script: ${paths[lib]}`);\n",
       "          s.src = paths[lib];\n",
       "        });\n",
       "    }\n",
       "\n",
       "    function showError(err) {\n",
       "      outputDiv.innerHTML = `<div class=\"error\" style=\"color:red;\">${err}</div>`;\n",
       "      throw err;\n",
       "    }\n",
       "\n",
       "    function displayChart(vegaEmbed) {\n",
       "      vegaEmbed(outputDiv, spec, embedOpt)\n",
       "        .catch(err => showError(`Javascript Error: ${err.message}<br>This usually means there's a typo in your chart specification. See the javascript console for the full traceback.`));\n",
       "    }\n",
       "\n",
       "    if(typeof define === \"function\" && define.amd) {\n",
       "      requirejs.config({paths});\n",
       "      require([\"vega-embed\"], displayChart, err => showError(`Error loading script: ${err.message}`));\n",
       "    } else {\n",
       "      maybeLoadScript(\"vega\", \"5\")\n",
       "        .then(() => maybeLoadScript(\"vega-lite\", \"4.17.0\"))\n",
       "        .then(() => maybeLoadScript(\"vega-embed\", \"6\"))\n",
       "        .catch(showError)\n",
       "        .then(() => displayChart(vegaEmbed));\n",
       "    }\n",
       "  })({\"config\": {\"view\": {\"continuousWidth\": 400, \"continuousHeight\": 300}}, \"data\": {\"name\": \"data-37ac2c9fe3be9938fd1bd688b178b754\"}, \"mark\": \"bar\", \"encoding\": {\"x\": {\"field\": \"features\", \"sort\": \"-y\", \"title\": \"Features\", \"type\": \"nominal\"}, \"y\": {\"field\": \"importance\", \"title\": \"Importance\", \"type\": \"quantitative\"}}, \"title\": \"Home features by importance\", \"width\": 600, \"$schema\": \"https://vega.github.io/schema/vega-lite/v4.17.0.json\", \"datasets\": {\"data-37ac2c9fe3be9938fd1bd688b178b754\": [{\"features\": \"age\", \"importance\": 0.0037591542979571097}, {\"features\": \"campaign\", \"importance\": 0.0009473727310859024}, {\"features\": \"pdays\", \"importance\": 0.01551098228000607}, {\"features\": \"previous\", \"importance\": 0.004421352748748696}, {\"features\": \"emp.var.rate\", \"importance\": 0.014136623837509027}, {\"features\": \"cons.price.idx\", \"importance\": 0.00903700506767303}, {\"features\": \"cons.conf.idx\", \"importance\": 0.009124875776702127}, {\"features\": \"euribor3m\", \"importance\": 0.027822926453292776}, {\"features\": \"nr.employed\", \"importance\": 0.02167825357263714}, {\"features\": \"job_admin.\", \"importance\": 0.0002510051744580106}, {\"features\": \"job_blue-collar\", \"importance\": 0.00035775401300266145}, {\"features\": \"job_entrepreneur\", \"importance\": 8.748258596355502e-05}, {\"features\": \"job_housemaid\", \"importance\": 8.82811169353657e-05}, {\"features\": \"job_management\", \"importance\": 0.00011665463697428783}, {\"features\": \"job_retired\", \"importance\": 0.0003287178662828267}, {\"features\": \"job_self-employed\", \"importance\": 0.0001140544306347885}, {\"features\": \"job_services\", \"importance\": 0.00012911828468738627}, {\"features\": \"job_student\", \"importance\": 0.0003185560102939968}, {\"features\": \"job_technician\", \"importance\": 0.00018334363372321088}, {\"features\": \"job_unemployed\", \"importance\": 0.00010006222281725474}, {\"features\": \"job_unknown\", \"importance\": 7.24265625621392e-05}, {\"features\": \"marital_divorced\", \"importance\": 0.00018011011276489655}, {\"features\": \"marital_married\", \"importance\": 0.00023881669418285596}, {\"features\": \"marital_single\", \"importance\": 0.00024569884815805164}, {\"features\": \"marital_unknown\", \"importance\": 4.5416018069123895e-05}, {\"features\": \"education_basic.4y\", \"importance\": 0.00016648739879384405}, {\"features\": \"education_basic.6y\", \"importance\": 0.00010488677671783785}, {\"features\": \"education_basic.9y\", \"importance\": 0.00021663387829519516}, {\"features\": \"education_high.school\", \"importance\": 0.0002083694717268056}, {\"features\": \"education_illiterate\", \"importance\": 1.4792969267556958e-05}, {\"features\": \"education_professional.course\", \"importance\": 0.00019126229212545725}, {\"features\": \"education_university.degree\", \"importance\": 0.00028529458822334385}, {\"features\": \"education_unknown\", \"importance\": 0.0001490616144218362}, {\"features\": \"default_no\", \"importance\": 0.00036329132813273205}, {\"features\": \"default_unknown\", \"importance\": 0.0006086813486272673}, {\"features\": \"default_yes\", \"importance\": 0.0}, {\"features\": \"housing_no\", \"importance\": 0.0002882860686793423}, {\"features\": \"housing_unknown\", \"importance\": 8.359990899969807e-05}, {\"features\": \"housing_yes\", \"importance\": 0.00026570775504870575}, {\"features\": \"loan_no\", \"importance\": 0.00022321081255301681}, {\"features\": \"loan_unknown\", \"importance\": 8.900548007565369e-05}, {\"features\": \"loan_yes\", \"importance\": 0.0002078730310610772}, {\"features\": \"contact_cellular\", \"importance\": 0.001031567647477318}, {\"features\": \"contact_telephone\", \"importance\": 0.001295469452857633}, {\"features\": \"month_apr\", \"importance\": 0.0006950527293762783}, {\"features\": \"month_aug\", \"importance\": 0.00016757066683379987}, {\"features\": \"month_dec\", \"importance\": 5.936624604002319e-05}, {\"features\": \"month_jul\", \"importance\": 0.00015249726959222016}, {\"features\": \"month_jun\", \"importance\": 0.00039048814268896376}, {\"features\": \"month_mar\", \"importance\": 0.0011365517538821457}, {\"features\": \"month_may\", \"importance\": 0.0020173514609405164}, {\"features\": \"month_nov\", \"importance\": 0.00012890933828521258}, {\"features\": \"month_oct\", \"importance\": 0.0020005521790285342}, {\"features\": \"month_sep\", \"importance\": 0.00026217105021988853}, {\"features\": \"day_of_week_fri\", \"importance\": 0.00021526161099560766}, {\"features\": \"day_of_week_mon\", \"importance\": 0.0005330209613866237}, {\"features\": \"day_of_week_thu\", \"importance\": 0.000258991394035417}, {\"features\": \"day_of_week_tue\", \"importance\": 0.00021261828022894454}, {\"features\": \"day_of_week_wed\", \"importance\": 0.00030093877603649553}, {\"features\": \"poutcome_failure\", \"importance\": 0.0013022367768253968}, {\"features\": \"poutcome_nonexistent\", \"importance\": 0.004135606803790297}, {\"features\": \"poutcome_success\", \"importance\": 0.017050966647296613}, {\"features\": \"y_no\", \"importance\": 0.42129625593285835}, {\"features\": \"y_yes\", \"importance\": 0.4325940651794518}]}}, {\"mode\": \"vega-lite\"});\n",
       "</script>"
      ],
      "text/plain": [
       "alt.Chart(...)"
      ]
     },
     "execution_count": 2,
     "metadata": {},
     "output_type": "execute_result"
    }
   ],
   "source": [
    "from sklearn.ensemble import RandomForestClassifier\n",
    "import altair as alt\n",
    "from sklearn.model_selection import train_test_split\n",
    "\n",
    "\n",
    "url = 'https://raw.githubusercontent.com/byui-cse/cse450-course/master/data/bank.csv'\n",
    "\n",
    "import pandas as pd\n",
    "\n",
    "dat = pd.read_csv(url)\n",
    "\n",
    "classifier = RandomForestClassifier(max_depth=12)\n",
    "\n",
    "X = dat\n",
    "y = dat['y']\n",
    "\n",
    "\n",
    "# print(X.head())\n",
    "X = pd.get_dummies(X)\n",
    "y = pd.get_dummies(y)\n",
    "\n",
    "x_train, x_test, y_train, y_test = train_test_split(X, y, test_size = .008, random_state = 190)\n",
    "\n",
    "classifier.fit(x_train, y_train)\n",
    "\n",
    "feature_df = pd.DataFrame({'features':X.columns, 'importance':classifier.feature_importances_})\n",
    "\n",
    "\n",
    "key_features_chart = (alt.Chart(feature_df).encode(\n",
    "   x= alt.X(\"features\", title = \"Features\", sort='-y'),\n",
    "   y=  alt.Y(\"importance\", title = \"Importance\")\n",
    ").properties(width=600,title=\"Home features by importance\")\n",
    ".mark_bar()\n",
    ")\n",
    "key_features_chart"
   ]
  }
 ],
 "metadata": {
  "kernelspec": {
   "display_name": "Python 3",
   "language": "python",
   "name": "python3"
  },
  "language_info": {
   "codemirror_mode": {
    "name": "ipython",
    "version": 3
   },
   "file_extension": ".py",
   "mimetype": "text/x-python",
   "name": "python",
   "nbconvert_exporter": "python",
   "pygments_lexer": "ipython3",
   "version": "3.10.8"
  },
  "orig_nbformat": 4
 },
 "nbformat": 4,
 "nbformat_minor": 2
}
