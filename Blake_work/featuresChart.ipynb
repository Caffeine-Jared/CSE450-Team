{
 "cells": [
  {
   "cell_type": "code",
   "execution_count": 2,
   "metadata": {
    "dotnet_interactive": {
     "language": "csharp"
    },
    "polyglot_notebook": {
     "kernelName": "csharp"
    }
   },
   "outputs": [
    {
     "name": "stderr",
     "output_type": "stream",
     "text": [
      "c:\\Users\\Blake Dennett\\AppData\\Local\\Programs\\Python\\Python310\\lib\\site-packages\\altair\\utils\\core.py:317: FutureWarning: iteritems is deprecated and will be removed in a future version. Use .items instead.\n",
      "  for col_name, dtype in df.dtypes.iteritems():\n"
     ]
    },
    {
     "data": {
      "text/html": [
       "\n",
       "<div id=\"altair-viz-461e7abed65f49688a6fb059b613fb48\"></div>\n",
       "<script type=\"text/javascript\">\n",
       "  var VEGA_DEBUG = (typeof VEGA_DEBUG == \"undefined\") ? {} : VEGA_DEBUG;\n",
       "  (function(spec, embedOpt){\n",
       "    let outputDiv = document.currentScript.previousElementSibling;\n",
       "    if (outputDiv.id !== \"altair-viz-461e7abed65f49688a6fb059b613fb48\") {\n",
       "      outputDiv = document.getElementById(\"altair-viz-461e7abed65f49688a6fb059b613fb48\");\n",
       "    }\n",
       "    const paths = {\n",
       "      \"vega\": \"https://cdn.jsdelivr.net/npm//vega@5?noext\",\n",
       "      \"vega-lib\": \"https://cdn.jsdelivr.net/npm//vega-lib?noext\",\n",
       "      \"vega-lite\": \"https://cdn.jsdelivr.net/npm//vega-lite@4.17.0?noext\",\n",
       "      \"vega-embed\": \"https://cdn.jsdelivr.net/npm//vega-embed@6?noext\",\n",
       "    };\n",
       "\n",
       "    function maybeLoadScript(lib, version) {\n",
       "      var key = `${lib.replace(\"-\", \"\")}_version`;\n",
       "      return (VEGA_DEBUG[key] == version) ?\n",
       "        Promise.resolve(paths[lib]) :\n",
       "        new Promise(function(resolve, reject) {\n",
       "          var s = document.createElement('script');\n",
       "          document.getElementsByTagName(\"head\")[0].appendChild(s);\n",
       "          s.async = true;\n",
       "          s.onload = () => {\n",
       "            VEGA_DEBUG[key] = version;\n",
       "            return resolve(paths[lib]);\n",
       "          };\n",
       "          s.onerror = () => reject(`Error loading script: ${paths[lib]}`);\n",
       "          s.src = paths[lib];\n",
       "        });\n",
       "    }\n",
       "\n",
       "    function showError(err) {\n",
       "      outputDiv.innerHTML = `<div class=\"error\" style=\"color:red;\">${err}</div>`;\n",
       "      throw err;\n",
       "    }\n",
       "\n",
       "    function displayChart(vegaEmbed) {\n",
       "      vegaEmbed(outputDiv, spec, embedOpt)\n",
       "        .catch(err => showError(`Javascript Error: ${err.message}<br>This usually means there's a typo in your chart specification. See the javascript console for the full traceback.`));\n",
       "    }\n",
       "\n",
       "    if(typeof define === \"function\" && define.amd) {\n",
       "      requirejs.config({paths});\n",
       "      require([\"vega-embed\"], displayChart, err => showError(`Error loading script: ${err.message}`));\n",
       "    } else {\n",
       "      maybeLoadScript(\"vega\", \"5\")\n",
       "        .then(() => maybeLoadScript(\"vega-lite\", \"4.17.0\"))\n",
       "        .then(() => maybeLoadScript(\"vega-embed\", \"6\"))\n",
       "        .catch(showError)\n",
       "        .then(() => displayChart(vegaEmbed));\n",
       "    }\n",
       "  })({\"config\": {\"view\": {\"continuousWidth\": 400, \"continuousHeight\": 300}}, \"data\": {\"name\": \"data-4f640cb8ec4c0f6a86585a1db76636da\"}, \"mark\": \"bar\", \"encoding\": {\"x\": {\"field\": \"features\", \"sort\": \"-y\", \"title\": \"Features\", \"type\": \"nominal\"}, \"y\": {\"field\": \"importance\", \"title\": \"Importance\", \"type\": \"quantitative\"}}, \"title\": \"Home features by importance\", \"width\": 1000, \"$schema\": \"https://vega.github.io/schema/vega-lite/v4.17.0.json\", \"datasets\": {\"data-4f640cb8ec4c0f6a86585a1db76636da\": [{\"features\": \"age\", \"importance\": 0.11403982757101025}, {\"features\": \"campaign\", \"importance\": 0.05214537422534507}, {\"features\": \"pdays\", \"importance\": 0.016517939788883777}, {\"features\": \"previous\", \"importance\": 0.015528552907099718}, {\"features\": \"emp.var.rate\", \"importance\": 0.002172011715460244}, {\"features\": \"cons.price.idx\", \"importance\": 0.011804994461880923}, {\"features\": \"cons.conf.idx\", \"importance\": 0.03745671408038354}, {\"features\": \"euribor3m\", \"importance\": 0.09619020491049876}, {\"features\": \"nr.employed\", \"importance\": 0.2970909276262611}, {\"features\": \"job_admin.\", \"importance\": 0.010303188610646873}, {\"features\": \"job_blue-collar\", \"importance\": 0.008232962219119315}, {\"features\": \"job_entrepreneur\", \"importance\": 0.0027857707841017314}, {\"features\": \"job_housemaid\", \"importance\": 0.003722414232111597}, {\"features\": \"job_management\", \"importance\": 0.007280066418816829}, {\"features\": \"job_retired\", \"importance\": 0.0032325791617588066}, {\"features\": \"job_self-employed\", \"importance\": 0.007361488818196272}, {\"features\": \"job_services\", \"importance\": 0.007631372375142145}, {\"features\": \"job_student\", \"importance\": 0.0043266236507761265}, {\"features\": \"job_technician\", \"importance\": 0.008356140170966305}, {\"features\": \"job_unemployed\", \"importance\": 0.0020987487763555962}, {\"features\": \"job_unknown\", \"importance\": 0.0021612466819802357}, {\"features\": \"marital_divorced\", \"importance\": 0.009487100712686746}, {\"features\": \"marital_married\", \"importance\": 0.008169675051585076}, {\"features\": \"marital_single\", \"importance\": 0.009964333981055472}, {\"features\": \"marital_unknown\", \"importance\": 0.000567339899555394}, {\"features\": \"education_basic.4y\", \"importance\": 0.006476252014198743}, {\"features\": \"education_basic.6y\", \"importance\": 0.005358840488967025}, {\"features\": \"education_basic.9y\", \"importance\": 0.00808625150021707}, {\"features\": \"education_high.school\", \"importance\": 0.013116735177517637}, {\"features\": \"education_illiterate\", \"importance\": 0.0009594435772510553}, {\"features\": \"education_professional.course\", \"importance\": 0.007347441801594457}, {\"features\": \"education_university.degree\", \"importance\": 0.0077936282215040785}, {\"features\": \"education_unknown\", \"importance\": 0.008707129693650971}, {\"features\": \"default_no\", \"importance\": 0.004192096220438028}, {\"features\": \"default_unknown\", \"importance\": 0.0034418019309868427}, {\"features\": \"default_yes\", \"importance\": 0.0}, {\"features\": \"housing_no\", \"importance\": 0.016290715201424825}, {\"features\": \"housing_unknown\", \"importance\": 0.0032586558571081007}, {\"features\": \"housing_yes\", \"importance\": 0.014725085540780279}, {\"features\": \"loan_no\", \"importance\": 0.007717481706872142}, {\"features\": \"loan_unknown\", \"importance\": 0.0008040203189999286}, {\"features\": \"loan_yes\", \"importance\": 0.00895328547977819}, {\"features\": \"contact_cellular\", \"importance\": 0.004946154253827105}, {\"features\": \"contact_telephone\", \"importance\": 0.01060349112634547}, {\"features\": \"month_apr\", \"importance\": 0.004221777562015166}, {\"features\": \"month_aug\", \"importance\": 0.001060093050845823}, {\"features\": \"month_dec\", \"importance\": 0.0}, {\"features\": \"month_jul\", \"importance\": 0.002095568382356911}, {\"features\": \"month_jun\", \"importance\": 0.0030917330860184443}, {\"features\": \"month_mar\", \"importance\": 0.0009014361343755987}, {\"features\": \"month_may\", \"importance\": 0.0017839597851476315}, {\"features\": \"month_nov\", \"importance\": 0.0007277282153188523}, {\"features\": \"month_oct\", \"importance\": 0.013091756605009455}, {\"features\": \"month_sep\", \"importance\": 0.002880482958786568}, {\"features\": \"day_of_week_fri\", \"importance\": 0.007841377293241698}, {\"features\": \"day_of_week_mon\", \"importance\": 0.008389439923304482}, {\"features\": \"day_of_week_thu\", \"importance\": 0.004463595485269724}, {\"features\": \"day_of_week_tue\", \"importance\": 0.009860461214006683}, {\"features\": \"day_of_week_wed\", \"importance\": 0.007612348858650711}, {\"features\": \"poutcome_failure\", \"importance\": 0.007503432922131444}, {\"features\": \"poutcome_nonexistent\", \"importance\": 0.003051457129292685}, {\"features\": \"poutcome_success\", \"importance\": 0.05001724245108834}]}}, {\"mode\": \"vega-lite\"});\n",
       "</script>"
      ],
      "text/plain": [
       "alt.Chart(...)"
      ]
     },
     "execution_count": 2,
     "metadata": {},
     "output_type": "execute_result"
    }
   ],
   "source": [
    "url = 'https://raw.githubusercontent.com/byui-cse/cse450-course/master/data/bank.csv'\n",
    "\n",
    "import pandas as pd\n",
    "from sklearn.model_selection import train_test_split\n",
    "from sklearn.tree import DecisionTreeClassifier\n",
    "import altair as alt\n",
    "\n",
    "dat = pd.read_csv(url)\n",
    "\n",
    "\n",
    "classifier = DecisionTreeClassifier(max_depth=15)\n",
    "\n",
    "X = dat.drop(columns='y')\n",
    "y = dat['y']\n",
    "\n",
    "X = pd.get_dummies(X)\n",
    "y = pd.get_dummies(y)\n",
    "\n",
    "x_train, x_test, y_train, y_test = train_test_split(X, y, test_size = .20, random_state=25)\n",
    "\n",
    "classifier.fit(x_train, y_train)\n",
    "\n",
    "feature_df = pd.DataFrame({'features':X.columns, 'importance':classifier.feature_importances_})\n",
    "\n",
    "key_features_chart = (alt.Chart(feature_df).encode(\n",
    "   x= alt.X(\"features\", title = \"Features\", sort='-y'),\n",
    "   y=  alt.Y(\"importance\", title = \"Importance\")\n",
    ").properties(width=1000,title=\"Home features by importance\")\n",
    ".mark_bar()\n",
    ")\n",
    "\n",
    "key_features_chart"
   ]
  }
 ],
 "metadata": {
  "kernelspec": {
   "display_name": "Python 3",
   "language": "python",
   "name": "python3"
  },
  "language_info": {
   "codemirror_mode": {
    "name": "ipython",
    "version": 3
   },
   "file_extension": ".py",
   "mimetype": "text/x-python",
   "name": "python",
   "nbconvert_exporter": "python",
   "pygments_lexer": "ipython3",
   "version": "3.10.8"
  },
  "orig_nbformat": 4,
  "polyglot_notebook": {
   "kernelInfo": {
    "defaultKernelName": "csharp",
    "items": [
     {
      "aliases": [],
      "name": "csharp"
     }
    ]
   }
  }
 },
 "nbformat": 4,
 "nbformat_minor": 2
}
